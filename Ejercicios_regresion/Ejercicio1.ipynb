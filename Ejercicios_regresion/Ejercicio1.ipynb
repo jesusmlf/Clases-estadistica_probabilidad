{
 "cells": [
  {
   "cell_type": "markdown",
   "metadata": {},
   "source": [
    "# Ejercico 1\n",
    "\n",
    "En un determinado estudo médico se pretende medir la relación existente entre la exposición al ruido y la hipertensión.\n",
    "\n",
    "Los datos contenidos en \"ruido.cvs\" han sido extraidos del Journal of Sound and Vibration.\n",
    "\n",
    "- Realizar un digrama de dispersión.\n",
    "- Calcular el coeficiente de correlación lineal de Pearson.\n",
    "- Realizar un modelo de regresión lineal."
   ]
  },
  {
   "cell_type": "code",
   "execution_count": null,
   "metadata": {},
   "outputs": [],
   "source": []
  }
 ],
 "metadata": {
  "kernelspec": {
   "display_name": "Python 3.9.7 ('base')",
   "language": "python",
   "name": "python3"
  },
  "language_info": {
   "codemirror_mode": {
    "name": "ipython",
    "version": 3
   },
   "file_extension": ".py",
   "mimetype": "text/x-python",
   "name": "python",
   "nbconvert_exporter": "python",
   "pygments_lexer": "ipython3",
   "version": "3.9.7"
  },
  "orig_nbformat": 4,
  "vscode": {
   "interpreter": {
    "hash": "1887026fcd1b072b47c58e40aa32a6384ea48c39cc97a9faa3b1fec939c280df"
   }
  }
 },
 "nbformat": 4,
 "nbformat_minor": 2
}
