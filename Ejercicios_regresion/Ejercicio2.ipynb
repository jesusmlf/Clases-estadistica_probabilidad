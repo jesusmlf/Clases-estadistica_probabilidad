{
 "cells": [
  {
   "cell_type": "markdown",
   "metadata": {},
   "source": [
    "# Ejercicio 2\n",
    "\n",
    "El archivo \"germenes.csv\" contiene el número de gérmenes patógenos por centímetro cúbico de un determinado cultivo según el tiempo transcurrido.\n",
    "\n",
    "- a) Calcula la recta de regresión para predecir el numero de gérmenes por $cm^3$ en función del tiempo.\n",
    "\n",
    "- b) ¿Que cantidad de gérmenes por $cm^3$ es predecible encontrar cuando hayan transcurrido 6 horas?"
   ]
  },
  {
   "cell_type": "code",
   "execution_count": null,
   "metadata": {},
   "outputs": [],
   "source": []
  }
 ],
 "metadata": {
  "kernelspec": {
   "display_name": "Python 3.9.7 ('base')",
   "language": "python",
   "name": "python3"
  },
  "language_info": {
   "codemirror_mode": {
    "name": "ipython",
    "version": 3
   },
   "file_extension": ".py",
   "mimetype": "text/x-python",
   "name": "python",
   "nbconvert_exporter": "python",
   "pygments_lexer": "ipython3",
   "version": "3.9.7"
  },
  "orig_nbformat": 4,
  "vscode": {
   "interpreter": {
    "hash": "1887026fcd1b072b47c58e40aa32a6384ea48c39cc97a9faa3b1fec939c280df"
   }
  }
 },
 "nbformat": 4,
 "nbformat_minor": 2
}
