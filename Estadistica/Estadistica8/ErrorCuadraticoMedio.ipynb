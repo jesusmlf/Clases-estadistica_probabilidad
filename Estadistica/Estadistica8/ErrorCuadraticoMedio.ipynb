{
 "cells": [
  {
   "cell_type": "markdown",
   "metadata": {},
   "source": [
    "# Error cuadratico medio."
   ]
  },
  {
   "cell_type": "code",
   "execution_count": 51,
   "metadata": {},
   "outputs": [
    {
     "data": {
      "text/html": [
       "<div>\n",
       "<style scoped>\n",
       "    .dataframe tbody tr th:only-of-type {\n",
       "        vertical-align: middle;\n",
       "    }\n",
       "\n",
       "    .dataframe tbody tr th {\n",
       "        vertical-align: top;\n",
       "    }\n",
       "\n",
       "    .dataframe thead th {\n",
       "        text-align: right;\n",
       "    }\n",
       "</style>\n",
       "<table border=\"1\" class=\"dataframe\">\n",
       "  <thead>\n",
       "    <tr style=\"text-align: right;\">\n",
       "      <th></th>\n",
       "      <th>Demanda total (miles de ton)</th>\n",
       "      <th>Ventas (miles de ton)</th>\n",
       "    </tr>\n",
       "  </thead>\n",
       "  <tbody>\n",
       "    <tr>\n",
       "      <th>0</th>\n",
       "      <td>200</td>\n",
       "      <td>9</td>\n",
       "    </tr>\n",
       "    <tr>\n",
       "      <th>1</th>\n",
       "      <td>220</td>\n",
       "      <td>6</td>\n",
       "    </tr>\n",
       "    <tr>\n",
       "      <th>2</th>\n",
       "      <td>400</td>\n",
       "      <td>12</td>\n",
       "    </tr>\n",
       "    <tr>\n",
       "      <th>3</th>\n",
       "      <td>330</td>\n",
       "      <td>7</td>\n",
       "    </tr>\n",
       "    <tr>\n",
       "      <th>4</th>\n",
       "      <td>210</td>\n",
       "      <td>5</td>\n",
       "    </tr>\n",
       "  </tbody>\n",
       "</table>\n",
       "</div>"
      ],
      "text/plain": [
       "   Demanda total (miles de ton)  Ventas (miles de ton)\n",
       "0                           200                      9\n",
       "1                           220                      6\n",
       "2                           400                     12\n",
       "3                           330                      7\n",
       "4                           210                      5"
      ]
     },
     "execution_count": 51,
     "metadata": {},
     "output_type": "execute_result"
    },
    {
     "data": {
      "image/png": "[encoded data removed]",
      "text/plain": [
       "<Figure size 432x288 with 1 Axes>"
      ]
     },
     "metadata": {
      "needs_background": "light"
     },
     "output_type": "display_data"
    }
   ],
   "source": [
    "import pandas as pd\n",
    "import matplotlib.pyplot as plot\n",
    "import Regresion\n",
    "\n",
    "data_fr = pd.read_csv(\"data/Manufactura.csv\")\n",
    "variable_x = data_fr[\"Demanda total (miles de ton)\"]\n",
    "variable_y = data_fr[\"Ventas (miles de ton)\"]\n",
    "m = Regresion.pendiente(variable_x,variable_y)\n",
    "b = Regresion.ordenada_origen(variable_x,variable_y,m)\n",
    "\n",
    "\n",
    "\n",
    "def f(x,m,b):\n",
    "    return m*x + b\n",
    "\n",
    "valores_x = []\n",
    "valores_y = []\n",
    "\n",
    "for i in range(0,500):\n",
    "    valores_x.append(i)\n",
    "    valores_y.append(f(i,m,b))\n",
    "\n",
    "plot.axes().set_facecolor(\"#F1E2FF\")\n",
    "plot.scatter(variable_x,variable_y,marker=\"o\",color=\"#FF006C\")\n",
    "plot.plot(valores_x,valores_y,color=\"#11066C\",linestyle = \"--\")\n",
    "\n",
    "\n",
    "plot.xlabel(\"Demanda total (miles de ton)\")\n",
    "plot.ylabel(\"Ventas (miles de ton)\")\n",
    "data_fr.head()"
   ]
  },
  {
   "cell_type": "markdown",
   "metadata": {},
   "source": [
    "Veamos una comparación entre los valores reales $y$ y los valores predichos $\\hat{y}$"
   ]
  },
  {
   "cell_type": "code",
   "execution_count": 63,
   "metadata": {},
   "outputs": [
    {
     "data": {
      "text/html": [
       "<div>\n",
       "<style scoped>\n",
       "    .dataframe tbody tr th:only-of-type {\n",
       "        vertical-align: middle;\n",
       "    }\n",
       "\n",
       "    .dataframe tbody tr th {\n",
       "        vertical-align: top;\n",
       "    }\n",
       "\n",
       "    .dataframe thead th {\n",
       "        text-align: right;\n",
       "    }\n",
       "</style>\n",
       "<table border=\"1\" class=\"dataframe\">\n",
       "  <thead>\n",
       "    <tr style=\"text-align: right;\">\n",
       "      <th></th>\n",
       "      <th>Demanda total (miles de ton)</th>\n",
       "      <th>Ventas (miles de ton)</th>\n",
       "      <th>Valores predichos</th>\n",
       "    </tr>\n",
       "  </thead>\n",
       "  <tbody>\n",
       "    <tr>\n",
       "      <th>0</th>\n",
       "      <td>200</td>\n",
       "      <td>9</td>\n",
       "      <td>6.011881</td>\n",
       "    </tr>\n",
       "    <tr>\n",
       "      <th>1</th>\n",
       "      <td>220</td>\n",
       "      <td>6</td>\n",
       "      <td>6.574257</td>\n",
       "    </tr>\n",
       "    <tr>\n",
       "      <th>2</th>\n",
       "      <td>400</td>\n",
       "      <td>12</td>\n",
       "      <td>11.635644</td>\n",
       "    </tr>\n",
       "    <tr>\n",
       "      <th>3</th>\n",
       "      <td>330</td>\n",
       "      <td>7</td>\n",
       "      <td>9.667327</td>\n",
       "    </tr>\n",
       "    <tr>\n",
       "      <th>4</th>\n",
       "      <td>210</td>\n",
       "      <td>5</td>\n",
       "      <td>6.293069</td>\n",
       "    </tr>\n",
       "  </tbody>\n",
       "</table>\n",
       "</div>"
      ],
      "text/plain": [
       "   Demanda total (miles de ton)  Ventas (miles de ton)  Valores predichos\n",
       "0                           200                      9           6.011881\n",
       "1                           220                      6           6.574257\n",
       "2                           400                     12          11.635644\n",
       "3                           330                      7           9.667327\n",
       "4                           210                      5           6.293069"
      ]
     },
     "execution_count": 63,
     "metadata": {},
     "output_type": "execute_result"
    },
    {
     "data": {
      "image/png": "[encoded data removed]",
      "text/plain": [
       "<Figure size 432x288 with 1 Axes>"
      ]
     },
     "metadata": {
      "needs_background": "light"
     },
     "output_type": "display_data"
    }
   ],
   "source": [
    "valores_predichos = []\n",
    "for i in variable_x:\n",
    "    valores_predichos.append(f(i,m,b))\n",
    "\n",
    "plot.axes().set_facecolor(\"#F1E2FF\")\n",
    "plot.scatter(variable_x,variable_y,marker=\"o\",color=\"#FF006C\")\n",
    "plot.plot(valores_x,valores_y,color=\"#11066C\",linestyle = \"--\")\n",
    "\n",
    "plot.scatter(variable_x,valores_predichos,color=\"black\")\n",
    "\n",
    "plot.xlabel(\"Demanda total (miles de ton)\")\n",
    "plot.ylabel(\"Ventas (miles de ton)\")\n",
    "\n",
    "data_fr[\"Valores predichos\"] = valores_predichos\n",
    "data_fr.head()"
   ]
  },
  {
   "cell_type": "markdown",
   "metadata": {},
   "source": [
    "## Formula del Error Cuadratico Medio\n",
    "\n",
    "$$\\frac{1}{N} \\sum_{i=1}^{M} (y_i - \\hat{y_i})^2$$\n",
    "\n",
    "Donde:\n",
    "- N Representa el total de datos\n",
    "- $y_i$ Representa el dato real en $i$\n",
    "- $\\hat{y_i}$ Representa el dato predicho en $i$"
   ]
  },
  {
   "cell_type": "code",
   "execution_count": null,
   "metadata": {},
   "outputs": [],
   "source": []
  }
 ],
 "metadata": {
  "kernelspec": {
   "display_name": "Python 3.9.7 ('base')",
   "language": "python",
   "name": "python3"
  },
  "language_info": {
   "codemirror_mode": {
    "name": "ipython",
    "version": 3
   },
   "file_extension": ".py",
   "mimetype": "text/x-python",
   "name": "python",
   "nbconvert_exporter": "python",
   "pygments_lexer": "ipython3",
   "version": "3.9.7"
  },
  "orig_nbformat": 4,
  "vscode": {
   "interpreter": {
    "hash": "1887026fcd1b072b47c58e40aa32a6384ea48c39cc97a9faa3b1fec939c280df"
   }
  }
 },
 "nbformat": 4,
 "nbformat_minor": 2
}
