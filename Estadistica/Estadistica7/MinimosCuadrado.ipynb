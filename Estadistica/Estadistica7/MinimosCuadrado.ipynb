{
 "cells": [
  {
   "cell_type": "markdown",
   "metadata": {},
   "source": [
    "# Mínimos Cuadrados\n",
    "\n",
    "Es una técnica de análisis numérico enmarcada dentro de la optimización matemática, en la que, dados un conjunto de pares ordenadors, variable independiente $x$ y variable dependiente $y$, se intenta encontrar la función que mejor se aproxime a los datos.\n",
    "\n",
    "El principio de los mínimos cuadrados es el supuesto más sencillo y elemental con una sola ecuación y que ésta contiene sólo dos variables $X$ y $Y$, consideramos que:$$ Y = f(x) $$\n",
    "\n",
    "El segundo paso consiste en especificar la forma de la relación entre $X$ y $Y$. La relación más simple entre dos variables es la línea recta, es decir: $$ Y = mX + b$$\n",
    "\n",
    "Donde:\n",
    "\n",
    "**m** y **b** son parámetros desconocidos que indican la pendiente y la ordenada en el origen de la función, respectivamente.\n",
    "\n",
    "\n",
    "Si se tienen $n$ puntos, $(X_1,Y_1), (X_2,Y_2),...,(X_n,Y_n)$ una recta $Y = mX + b$ recibe el nombre de recta de mínimos cuadrados.\n",
    "\n",
    "<img src=\"images/minimos_cuadrados.PNG\" alt=\"drawing\" width=\"500\"/>\n",
    "\n",
    "La recta de mejor ajuste y por lo tanto la que da la mejor estimación es aquella en la suma del área de los cuadrados sea la más pequeña o mínima.\n",
    "\n",
    "Las fórmulas para calcular la recta de mínimos cuadrados son las siguientes:"
   ]
  },
  {
   "cell_type": "markdown",
   "metadata": {},
   "source": [
    "## Pendiente:\n",
    "$$ m = \\frac{[(n)\\sum{xy}] - [(\\sum{x})(\\sum{y})]} {[(n)(\\sum{x^2}) - (\\sum{x})^2]} $$\n",
    "\n",
    "## Ordenada al origen:\n",
    "\n",
    "$$b = \\frac{[(\\sum{y})] - [(m)(\\sum{x})]} {n}$$"
   ]
  },
  {
   "cell_type": "markdown",
   "metadata": {},
   "source": [
    "### Graficar funciones en python:"
   ]
  },
  {
   "cell_type": "code",
   "execution_count": 1,
   "metadata": {},
   "outputs": [
    {
     "data": {
      "text/plain": [
       "[<matplotlib.lines.Line2D at 0x7f9984891130>]"
      ]
     },
     "execution_count": 1,
     "metadata": {},
     "output_type": "execute_result"
    },
    {
     "data": {
      "image/png": "[encoded data removed]",
      "text/plain": [
       "<Figure size 432x288 with 1 Axes>"
      ]
     },
     "metadata": {
      "needs_background": "light"
     },
     "output_type": "display_data"
    }
   ],
   "source": [
    "import matplotlib.pyplot as plt\n",
    "def f(x) : \n",
    "    return 2 * x -3\n",
    "\n",
    "x = range(-10,15)\n",
    "plt.plot (x, [f(i) for i in x])\n"
   ]
  },
  {
   "cell_type": "markdown",
   "metadata": {},
   "source": [
    "Ejemplo:\n",
    "\n",
    "a) Realizar el diagrama de dispersion del archivo (\"Peso_Talla.csv\").\n",
    "\n",
    "b) Obtener el coeficiente de correlación lineal de pearson.\n",
    "\n",
    "c) Obtener la ecuación de la gráfica con mejor ajuste."
   ]
  },
  {
   "cell_type": "code",
   "execution_count": 2,
   "metadata": {},
   "outputs": [
    {
     "name": "stdout",
     "output_type": "stream",
     "text": [
      "Coeficiente de correlación lineal: 0.9919522876832935\n"
     ]
    },
    {
     "data": {
      "image/png": "[encoded data removed]",
      "text/plain": [
       "<Figure size 432x288 with 1 Axes>"
      ]
     },
     "metadata": {
      "needs_background": "light"
     },
     "output_type": "display_data"
    }
   ],
   "source": [
    "import pandas as pd\n",
    "from pearson import Pearson\n",
    "import matplotlib.pyplot as plt\n",
    "\n",
    "\n",
    "data = pd.read_csv(\"data/Peso_Talla.csv\")\n",
    "Peso = list(data[\"Y Peso (kg)\"])\n",
    "Talla = list(data[\"X Talla (cm)\"])\n",
    "\n",
    "plt.scatter(Peso,Talla)\n",
    "\n",
    "coeficiente_pearson = Pearson(Peso,Talla)\n",
    "print(f\"Coeficiente de correlación lineal: {coeficiente_pearson}\")\n",
    "\n"
   ]
  },
  {
   "cell_type": "code",
   "execution_count": 18,
   "metadata": {},
   "outputs": [
    {
     "name": "stdout",
     "output_type": "stream",
     "text": [
      "3.3550488599348536\n",
      "45.64169381107492\n",
      "163.0684039087948\n"
     ]
    },
    {
     "data": {
      "image/png": "[encoded data removed]",
      "text/plain": [
       "<Figure size 432x288 with 1 Axes>"
      ]
     },
     "metadata": {
      "needs_background": "light"
     },
     "output_type": "display_data"
    }
   ],
   "source": [
    "from Regresion import ordenada_origen, pendiente\n",
    "\n",
    "m = pendiente(Peso,Talla)\n",
    "b = ordenada_origen(Peso,Talla,m)\n",
    "\n",
    "print(m)\n",
    "print(b)\n",
    "\n",
    "def f(x,m,b):\n",
    "    return (m*x)+b\n",
    "    \n",
    "plt.scatter(Peso,Talla,marker=\"^\",color=\"#000000\")\n",
    "x = range(5,30)\n",
    "plt.plot (x, [f(i,m,b) for i in x],color=\"green\")\n",
    "\n",
    "print(f(35,m,b))"
   ]
  },
  {
   "cell_type": "code",
   "execution_count": null,
   "metadata": {},
   "outputs": [],
   "source": []
  }
 ],
 "metadata": {
  "kernelspec": {
   "display_name": "Python 3.9.7 ('base')",
   "language": "python",
   "name": "python3"
  },
  "language_info": {
   "codemirror_mode": {
    "name": "ipython",
    "version": 3
   },
   "file_extension": ".py",
   "mimetype": "text/x-python",
   "name": "python",
   "nbconvert_exporter": "python",
   "pygments_lexer": "ipython3",
   "version": "3.9.7"
  },
  "orig_nbformat": 4,
  "vscode": {
   "interpreter": {
    "hash": "1887026fcd1b072b47c58e40aa32a6384ea48c39cc97a9faa3b1fec939c280df"
   }
  }
 },
 "nbformat": 4,
 "nbformat_minor": 2
}
