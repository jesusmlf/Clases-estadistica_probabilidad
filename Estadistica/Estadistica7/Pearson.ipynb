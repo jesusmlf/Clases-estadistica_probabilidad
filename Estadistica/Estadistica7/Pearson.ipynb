{
 "cells": [
  {
   "cell_type": "markdown",
   "metadata": {},
   "source": [
    "# Coeficiente de correlación lineal de Pearson.\n",
    "\n",
    "Se utiliza para medir el grado de asociación entre dos variables **cuantitativas**. Este coeficiente se representa con la letra $\"r\"$ y puede tomar valores entre $-1$ y $+1$.\n",
    "\n",
    "- Si $r$ es positivo, entonces a medida que aumente $\"X\"$ también aumentara $\"Y\"$.\n",
    "- Si $r$ es negativo, entonces a medida que aumente $\"X\"$, disminuirá $\"Y\"$.\n",
    "\n"
   ]
  },
  {
   "cell_type": "markdown",
   "metadata": {},
   "source": [
    "## Tipo y grado de correlación.\n",
    "\n",
    "<img src=\"images/correlacion.PNG\" alt=\"drawing\" width=\"400\"/>\n",
    "\n",
    "### Formula:\n",
    "\n",
    "<img src=\"images/pearson.PNG\" alt=\"drawing\" width=\"450\"/>"
   ]
  },
  {
   "cell_type": "markdown",
   "metadata": {},
   "source": [
    "#### Ejercicio:\n",
    "\n",
    "Calcular el coeficiente de correlación lineal de Pearson del archivo *\"Peso_Talla.csv\"*.\n",
    "\n",
    "<img src=\"images/tabla_correlacion.PNG\" alt=\"drawing\" width=\"450\"/>"
   ]
  },
  {
   "cell_type": "code",
   "execution_count": 3,
   "metadata": {},
   "outputs": [
    {
     "data": {
      "text/html": [
       "<div>\n",
       "<style scoped>\n",
       "    .dataframe tbody tr th:only-of-type {\n",
       "        vertical-align: middle;\n",
       "    }\n",
       "\n",
       "    .dataframe tbody tr th {\n",
       "        vertical-align: top;\n",
       "    }\n",
       "\n",
       "    .dataframe thead th {\n",
       "        text-align: right;\n",
       "    }\n",
       "</style>\n",
       "<table border=\"1\" class=\"dataframe\">\n",
       "  <thead>\n",
       "    <tr style=\"text-align: right;\">\n",
       "      <th></th>\n",
       "      <th>X Talla (cm)</th>\n",
       "      <th>Y Peso (kg)</th>\n",
       "    </tr>\n",
       "  </thead>\n",
       "  <tbody>\n",
       "    <tr>\n",
       "      <th>0</th>\n",
       "      <td>86</td>\n",
       "      <td>12</td>\n",
       "    </tr>\n",
       "    <tr>\n",
       "      <th>1</th>\n",
       "      <td>123</td>\n",
       "      <td>24</td>\n",
       "    </tr>\n",
       "    <tr>\n",
       "      <th>2</th>\n",
       "      <td>74</td>\n",
       "      <td>9</td>\n",
       "    </tr>\n",
       "    <tr>\n",
       "      <th>3</th>\n",
       "      <td>106</td>\n",
       "      <td>17</td>\n",
       "    </tr>\n",
       "    <tr>\n",
       "      <th>4</th>\n",
       "      <td>118</td>\n",
       "      <td>21</td>\n",
       "    </tr>\n",
       "    <tr>\n",
       "      <th>5</th>\n",
       "      <td>99</td>\n",
       "      <td>16</td>\n",
       "    </tr>\n",
       "  </tbody>\n",
       "</table>\n",
       "</div>"
      ],
      "text/plain": [
       "   X Talla (cm)  Y Peso (kg)\n",
       "0            86           12\n",
       "1           123           24\n",
       "2            74            9\n",
       "3           106           17\n",
       "4           118           21\n",
       "5            99           16"
      ]
     },
     "execution_count": 3,
     "metadata": {},
     "output_type": "execute_result"
    }
   ],
   "source": [
    "import pandas as pd\n",
    "import matplotlib.pyplot as plot\n",
    "\n",
    "data_fr = pd.read_csv(\"./data/Peso_Talla.csv\")\n",
    "data_fr.head(10)"
   ]
  },
  {
   "cell_type": "code",
   "execution_count": 18,
   "metadata": {},
   "outputs": [
    {
     "name": "stdout",
     "output_type": "stream",
     "text": [
      "[1032, 2952, 666, 1802, 2478, 1584, 10514]\n"
     ]
    }
   ],
   "source": [
    "Peso_x = data_fr[\"Y Peso (kg)\"]\n",
    "Talla_y = data_fr[\"X Talla (cm)\"]\n",
    "\n",
    "Peso_x = list(Peso_x)\n",
    "Talla_y = list(Talla_y)\n",
    "\n",
    "suma_x = 0\n",
    "for i in Peso_x:\n",
    "    suma_x = suma_x + i\n",
    "Peso_x.append(suma_x)\n",
    "\n",
    "\n",
    "suma_y = 0\n",
    "for i in Talla_y:\n",
    "    suma_y = suma_y + i\n",
    "Talla_y.append(suma_y)\n",
    "\n",
    "x_cuadrado = []\n",
    "for i in range(0,len(Peso_x)-1):\n",
    "    x_cuadrado.append(Peso_x[i]**2)\n",
    "\n",
    "suma_xc = 0\n",
    "for i in x_cuadrado:\n",
    "    suma_xc = suma_xc + i\n",
    "x_cuadrado.append(suma_xc)\n",
    "\n",
    "y_cuadrado = []\n",
    "for i in range(0,len(Peso_x)-1):\n",
    "    y_cuadrado.append(Talla_y[i]**2)\n",
    "\n",
    "suma_yc = 0\n",
    "for i in y_cuadrado:\n",
    "    suma_yc = suma_yc + i\n",
    "y_cuadrado.append(suma_yc)\n",
    "\n",
    "XY = []\n",
    "for i in range(0,len(Peso_x)-1):\n",
    "    XY.append(Peso_x[i] * Talla_y[i])\n",
    "\n",
    "suma_xy = 0\n",
    "for i in XY:\n",
    "    suma_xy = suma_xy + i\n",
    "\n",
    "XY.append(suma_xy)"
   ]
  },
  {
   "cell_type": "code",
   "execution_count": 27,
   "metadata": {},
   "outputs": [
    {
     "name": "stdout",
     "output_type": "stream",
     "text": [
      "99.2 %\n"
     ]
    }
   ],
   "source": [
    "from math import sqrt\n",
    "\n",
    "n = len(Peso_x) - 1\n",
    "numerador = (n * XY[n]) - (Peso_x[n] * Talla_y[n])\n",
    "\n",
    "denom = sqrt(((n*x_cuadrado[n])-(Peso_x[n])**2)*((n*y_cuadrado[n])-(Talla_y[n])**2) )\n",
    "\n",
    "pearson = numerador / denom\n",
    "\n",
    "print(f\"{round(pearson*100,2)} %\")"
   ]
  },
  {
   "cell_type": "code",
   "execution_count": 30,
   "metadata": {},
   "outputs": [
    {
     "ename": "IndexError",
     "evalue": "pop index out of range",
     "output_type": "error",
     "traceback": [
      "\u001b[0;31m---------------------------------------------------------------------------\u001b[0m",
      "\u001b[0;31mIndexError\u001b[0m                                Traceback (most recent call last)",
      "\u001b[0;32m/tmp/ipykernel_356/4277109614.py\u001b[0m in \u001b[0;36m<module>\u001b[0;34m\u001b[0m\n\u001b[1;32m      1\u001b[0m \u001b[0;32mfrom\u001b[0m \u001b[0mpearson\u001b[0m \u001b[0;32mimport\u001b[0m \u001b[0mPearson\u001b[0m\u001b[0;34m\u001b[0m\u001b[0;34m\u001b[0m\u001b[0m\n\u001b[1;32m      2\u001b[0m \u001b[0;34m\u001b[0m\u001b[0m\n\u001b[0;32m----> 3\u001b[0;31m \u001b[0mp\u001b[0m \u001b[0;34m=\u001b[0m \u001b[0mPearson\u001b[0m\u001b[0;34m(\u001b[0m\u001b[0mPeso_x\u001b[0m\u001b[0;34m.\u001b[0m\u001b[0mpop\u001b[0m\u001b[0;34m(\u001b[0m\u001b[0;36m6\u001b[0m\u001b[0;34m)\u001b[0m\u001b[0;34m,\u001b[0m\u001b[0mTalla_y\u001b[0m\u001b[0;34m.\u001b[0m\u001b[0mpop\u001b[0m\u001b[0;34m(\u001b[0m\u001b[0;36m6\u001b[0m\u001b[0;34m)\u001b[0m\u001b[0;34m)\u001b[0m\u001b[0;34m\u001b[0m\u001b[0;34m\u001b[0m\u001b[0m\n\u001b[0m\u001b[1;32m      4\u001b[0m \u001b[0mprint\u001b[0m\u001b[0;34m(\u001b[0m\u001b[0mp\u001b[0m\u001b[0;34m)\u001b[0m\u001b[0;34m\u001b[0m\u001b[0;34m\u001b[0m\u001b[0m\n",
      "\u001b[0;31mIndexError\u001b[0m: pop index out of range"
     ]
    }
   ],
   "source": [
    "from pearson import Pearson\n",
    "Peso_x.pop(6)\n",
    "Talla_y.pop(6)\n",
    "p = Pearson(Peso_x,Talla_y)\n",
    "\n"
   ]
  },
  {
   "cell_type": "markdown",
   "metadata": {},
   "source": [
    "#### Ejercicio:\n",
    "\n",
    "Calcular el coeficiente de correlación lineal de Pearson del archivo *\"Manufactura.csv\"*."
   ]
  },
  {
   "cell_type": "code",
   "execution_count": null,
   "metadata": {},
   "outputs": [],
   "source": [
    "import pandas as pd\n"
   ]
  },
  {
   "cell_type": "markdown",
   "metadata": {},
   "source": [
    "<img src=\"images/IntensidadCorrelacion.PNG\" alt=\"drawing\" width=\"450\"/>"
   ]
  },
  {
   "cell_type": "markdown",
   "metadata": {},
   "source": [
    "#### Ejercicio:\n",
    "Calcular el coeficiente de correlación lineal de Pearson del archivo *\"Satisfaccion.csv\"*."
   ]
  },
  {
   "cell_type": "code",
   "execution_count": null,
   "metadata": {},
   "outputs": [],
   "source": []
  }
 ],
 "metadata": {
  "kernelspec": {
   "display_name": "Python 3.9.7 ('base')",
   "language": "python",
   "name": "python3"
  },
  "language_info": {
   "codemirror_mode": {
    "name": "ipython",
    "version": 3
   },
   "file_extension": ".py",
   "mimetype": "text/x-python",
   "name": "python",
   "nbconvert_exporter": "python",
   "pygments_lexer": "ipython3",
   "version": "3.9.7"
  },
  "orig_nbformat": 4,
  "vscode": {
   "interpreter": {
    "hash": "1887026fcd1b072b47c58e40aa32a6384ea48c39cc97a9faa3b1fec939c280df"
   }
  }
 },
 "nbformat": 4,
 "nbformat_minor": 2
}
