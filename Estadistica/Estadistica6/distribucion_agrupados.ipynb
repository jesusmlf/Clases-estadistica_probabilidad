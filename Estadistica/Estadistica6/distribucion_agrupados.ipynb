{
 "cells": [
  {
   "cell_type": "markdown",
   "metadata": {},
   "source": [
    "# Desviación estándar para una distribución de frecuencias agrupadas.\n",
    "\n",
    "Si $X_1,X_2,X_3,...,X_k$ son $k$ números que se presentan con frecuencias $f_1,f_2,f_3,...,f_k$, respectivamente, entonces la desviación estándar se puede escribir como: $$s = \\sqrt{\\frac{\\sum_{i=1}^{N} f_i(X_i)^2}{N} - (\\bar{X})^2}$$\n",
    "\n",
    "La expresión anterior se puede generalizar al caso de una distribución de frecuencias agrupadas tomando en cuenta, que $X_i$ representa la marca de clase y $f_i$ la frecuencia de cada intervalo. Además $N = \\sum f_i$"
   ]
  },
  {
   "cell_type": "markdown",
   "metadata": {},
   "source": [
    "Cuando sea necesario distinguir entre la desviación estándar de una población y la desviación estándar de una muestra extraída de una población, se emplean los siguientes símbolos: $σ$ para una población y $s$ para una muestra."
   ]
  },
  {
   "cell_type": "markdown",
   "metadata": {},
   "source": [
    "Ejemplo: Hallar la desviación estándar de la siguiente distribución de frecuencias: "
   ]
  },
  {
   "cell_type": "markdown",
   "metadata": {},
   "source": [
    "Primero importaremos las librerias necesarias para el tratamiendo de archivos .csv y despues asignaremos a una variable la tabla contenida en \"Desviacion.csv\""
   ]
  },
  {
   "cell_type": "code",
   "execution_count": 2,
   "metadata": {},
   "outputs": [
    {
     "data": {
      "text/html": [
       "<div>\n",
       "<style scoped>\n",
       "    .dataframe tbody tr th:only-of-type {\n",
       "        vertical-align: middle;\n",
       "    }\n",
       "\n",
       "    .dataframe tbody tr th {\n",
       "        vertical-align: top;\n",
       "    }\n",
       "\n",
       "    .dataframe thead th {\n",
       "        text-align: right;\n",
       "    }\n",
       "</style>\n",
       "<table border=\"1\" class=\"dataframe\">\n",
       "  <thead>\n",
       "    <tr style=\"text-align: right;\">\n",
       "      <th></th>\n",
       "      <th>Clase</th>\n",
       "      <th>Intervalos</th>\n",
       "      <th>Marca de clase</th>\n",
       "      <th>Frecuencia de clase</th>\n",
       "    </tr>\n",
       "  </thead>\n",
       "  <tbody>\n",
       "    <tr>\n",
       "      <th>0</th>\n",
       "      <td>1</td>\n",
       "      <td>50.5 - 57.5</td>\n",
       "      <td>54</td>\n",
       "      <td>2</td>\n",
       "    </tr>\n",
       "    <tr>\n",
       "      <th>1</th>\n",
       "      <td>2</td>\n",
       "      <td>57.5 - 64.5</td>\n",
       "      <td>61</td>\n",
       "      <td>11</td>\n",
       "    </tr>\n",
       "    <tr>\n",
       "      <th>2</th>\n",
       "      <td>3</td>\n",
       "      <td>64.5 - 71.5</td>\n",
       "      <td>68</td>\n",
       "      <td>13</td>\n",
       "    </tr>\n",
       "    <tr>\n",
       "      <th>3</th>\n",
       "      <td>4</td>\n",
       "      <td>71.5 - 78.5</td>\n",
       "      <td>75</td>\n",
       "      <td>14</td>\n",
       "    </tr>\n",
       "    <tr>\n",
       "      <th>4</th>\n",
       "      <td>5</td>\n",
       "      <td>78.5 - 85.5</td>\n",
       "      <td>82</td>\n",
       "      <td>23</td>\n",
       "    </tr>\n",
       "  </tbody>\n",
       "</table>\n",
       "</div>"
      ],
      "text/plain": [
       "   Clase   Intervalos  Marca de clase  Frecuencia de clase\n",
       "0      1  50.5 - 57.5              54                    2\n",
       "1      2  57.5 - 64.5              61                   11\n",
       "2      3  64.5 - 71.5              68                   13\n",
       "3      4  71.5 - 78.5              75                   14\n",
       "4      5  78.5 - 85.5              82                   23"
      ]
     },
     "execution_count": 2,
     "metadata": {},
     "output_type": "execute_result"
    }
   ],
   "source": [
    "# Importando librerias\n",
    "import pandas as pd\n",
    "\n",
    "# Leyendo el csv\n",
    "data_fr = pd.read_csv(\"Desviacion.csv\")\n",
    "data_fr.head()"
   ]
  },
  {
   "cell_type": "markdown",
   "metadata": {},
   "source": [
    "El siguiente paso es calcular la media aritmetica.\n",
    "\n",
    "Recordando que: $$\\frac{1}{n}\\sum_{i=1}^{K}{f_{i}}{x_{i}}$$\n",
    "Donde: \n",
    "- ${x_{i}}$ son las marcas de clase de cada clase.\n",
    "- ${f_{i}}$ son las frecuencias absolutas de cada clase.\n",
    "- $n$ es el número total de datos.\n",
    "- $K$ es el número de clases."
   ]
  },
  {
   "cell_type": "code",
   "execution_count": 9,
   "metadata": {},
   "outputs": [
    {
     "name": "stdout",
     "output_type": "stream",
     "text": [
      "La media es: 77.0125\n"
     ]
    }
   ],
   "source": [
    "# Calcular la media aritmetica:\n",
    "frecuencia = data_fr[\"Frecuencia de clase\"]\n",
    "marca_clase = data_fr[\"Marca de clase\"]\n",
    "\n",
    "k = len(frecuencia)\n",
    "suma = 0\n",
    "for i in frecuencia:\n",
    "    suma = suma + i\n",
    "n = suma\n",
    "\n",
    "suma = 0\n",
    "for i in range(0,k):\n",
    "    suma = suma + (marca_clase[i] * frecuencia[i])\n",
    "media = suma/n\n",
    "print(f\"La media es: {media}\")"
   ]
  },
  {
   "cell_type": "markdown",
   "metadata": {},
   "source": [
    "El siguiente paso es calcular la desviación estándar"
   ]
  },
  {
   "cell_type": "code",
   "execution_count": 10,
   "metadata": {},
   "outputs": [
    {
     "name": "stdout",
     "output_type": "stream",
     "text": [
      "Desviacion: 10.911569261568193\n"
     ]
    }
   ],
   "source": [
    "from math import sqrt\n",
    "\n",
    "suma = 0\n",
    "for i in range(0,k):\n",
    "    suma = suma + (frecuencia[i]*marca_clase[i]**2)\n",
    "s = sqrt( ((suma)/(n)) - media**2 )\n",
    "print(f\"Desviacion: {s}\")\n",
    "\n"
   ]
  },
  {
   "cell_type": "markdown",
   "metadata": {},
   "source": [
    "En promedio los datos se desvían de la media en $10.91$"
   ]
  }
 ],
 "metadata": {
  "kernelspec": {
   "display_name": "Python 3.9.7 ('base')",
   "language": "python",
   "name": "python3"
  },
  "language_info": {
   "codemirror_mode": {
    "name": "ipython",
    "version": 3
   },
   "file_extension": ".py",
   "mimetype": "text/x-python",
   "name": "python",
   "nbconvert_exporter": "python",
   "pygments_lexer": "ipython3",
   "version": "3.9.7"
  },
  "orig_nbformat": 4,
  "vscode": {
   "interpreter": {
    "hash": "1887026fcd1b072b47c58e40aa32a6384ea48c39cc97a9faa3b1fec939c280df"
   }
  }
 },
 "nbformat": 4,
 "nbformat_minor": 2
}
