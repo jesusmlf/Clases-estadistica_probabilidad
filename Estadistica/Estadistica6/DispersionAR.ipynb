{
 "cells": [
  {
   "cell_type": "markdown",
   "metadata": {},
   "source": [
    "# Dispersión absoluta y relativa. Coeficiente de variación.\n",
    "\n",
    "A la dispersión real determinada por la desviación estándar u otra medida de dispersión se le llama **dispersión absoluta**. Sin embarho, una variación o dispersión de 10 centímetros en la medida de una distancia de 1000 metros tiene un efectyo totalmente fistinto al que tendría la misma variación de 10 centímetros en una distancia de 10 metros. Una medida de este efecto está dada por la **dispersión relativa** definida por:\n",
    "\n",
    "*$$Dispersión\\ relativa = \\frac{Dispersión\\ absoluta}{Promedio}$$*\n",
    "\n",
    "Si la dispersión absoluta es la desviación estándar y el promedio es la media aritmética, entonces, a la dispersión relativa se le conoce por **coeficiente de variación o coeficiente de dispersión**.\n",
    "\n",
    "$$V = \\frac{s}{\\bar{x}}$$"
   ]
  },
  {
   "cell_type": "markdown",
   "metadata": {},
   "source": [
    "Hallar el coeficiente de variación de la distribución de frecuencias del archivo \"Desviacion.csv\""
   ]
  },
  {
   "cell_type": "code",
   "execution_count": null,
   "metadata": {},
   "outputs": [],
   "source": []
  }
 ],
 "metadata": {
  "kernelspec": {
   "display_name": "Python 3.9.7 ('base')",
   "language": "python",
   "name": "python3"
  },
  "language_info": {
   "name": "python",
   "version": "3.9.7"
  },
  "orig_nbformat": 4,
  "vscode": {
   "interpreter": {
    "hash": "1887026fcd1b072b47c58e40aa32a6384ea48c39cc97a9faa3b1fec939c280df"
   }
  }
 },
 "nbformat": 4,
 "nbformat_minor": 2
}
