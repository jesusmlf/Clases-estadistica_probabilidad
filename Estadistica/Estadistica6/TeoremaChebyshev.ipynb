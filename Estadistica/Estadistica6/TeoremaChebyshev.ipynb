{
 "cells": [
  {
   "cell_type": "markdown",
   "metadata": {},
   "source": [
    "# El teorema de Chebyshev\n",
    "\n",
    "De acuerdo a la expresión de la desviación estándar, se observa que la dispersión de un conjunto de datos es pequeña si los valores se agrupan en torno a su media, y que es grande si los valores se dispersan ampliamente en torno a su media. En forma correspondiente, podemos decir que, si la desviación estándar de un conjunto de datos es pequeña, los valores se concentran en la proximidad de la media, y si es grande, los valores se dispersan ampliamente en torno a la media.\n",
    "\n",
    "Esta ide es expresada de manera formal por el **teorema de Chebyshev**:\n",
    "\n",
    "*La proporción de datos para cualquier tipo de distribución, situada dentro de $k$ desviaciones estándar respecto de la media, es por lo menos: * $$1-\\frac{1}{k^2} , k > 1$$\n",
    "\n",
    "Si $k=2$, tenemos 75%. Lo cual significa que siempre habrà al menos un 75% (es decir, 75% o más) de los datos, dentro de dos desviaciones estándar a ambos lados de la media.\n",
    "\n",
    "El teorema de Chebyshev se aplica a cualquier tipo de distribución, pero sólo nos indica \"cuando menos qué porcentaje\" de datos deberá estar entre ciertos límites. $(\\bar{x}-2s) (\\bar{x}+2s)$\n",
    "\n",
    "En la mayoría de aplicaciones prácticas de la desviación estándar, es conveniente convertir los valores a **unidades estándar o puntuaciones z**. De manera general, si $x$ es una medición que pertenece a un conjunto de datos, los cuales tienen una media $\\bar{x}$ y una desviación estándar $s$, entonces su valor en unidades estándar, representado por $z$, es: \n",
    "\n",
    "$$ z = \\frac{x-\\bar{x}}{s}$$\n",
    "\n",
    "Ejemplo: Si todas las latas de cafe, llenadas con un procesador de alimentos tienen un peso medio de 16.00 onzas con una desviación estándar de 0.02 de onza, ¿qué porcentaje de latas debera contener cuando menos de 15.95 a 16.5 onzas de café?"
   ]
  },
  {
   "cell_type": "code",
   "execution_count": null,
   "metadata": {},
   "outputs": [],
   "source": []
  }
 ],
 "metadata": {
  "kernelspec": {
   "display_name": "Python 3.9.7 ('base')",
   "language": "python",
   "name": "python3"
  },
  "language_info": {
   "name": "python",
   "version": "3.9.7"
  },
  "orig_nbformat": 4,
  "vscode": {
   "interpreter": {
    "hash": "1887026fcd1b072b47c58e40aa32a6384ea48c39cc97a9faa3b1fec939c280df"
   }
  }
 },
 "nbformat": 4,
 "nbformat_minor": 2
}
