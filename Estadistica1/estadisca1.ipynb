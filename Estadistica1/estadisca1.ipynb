{
 "cells": [
  {
   "cell_type": "markdown",
   "metadata": {},
   "source": [
    "## ¿Qué es la estadística?\n",
    "La estadística es la rama de la matemática, cuyo objetivo es la recopilación, organización, presentación, análisis e interpretación de datos, tanto para hacer inferencias (predecir, pronosticar) como para tomar decisiones acerca del problema que se esta analizando\n",
    "\n",
    "El campo de la estadística se divide en dos áreas: **Estadística Descriptiva** y **Estadística Inferencial**\n",
    "\n",
    "\n",
    "### **Estadística Descriptiva**\n",
    "Se refiere a la recopilación, organización, presentación y descripción de datos.\n",
    "\n",
    "\n",
    "### **Estadística Inferencial**\n",
    "Se refiere a la manera de interpretar los valores que se han obtenido a partir de las técnicas descriptivas, los cuales nos permiten inferir o predecir ciertos resultados y a su utilización posterior para tomar decisiones."
   ]
  },
  {
   "cell_type": "markdown",
   "metadata": {},
   "source": [
    "## Conceptos básicos.\n",
    "\n",
    "**Población:** *Es la totalidad de objetos o individuos cuyas propiedades en común se han de analizar.*\n",
    "\n",
    "**Muestra:** *Un subconjunto de una población.*\n",
    "\n",
    "- Una muestra se compone de los individuos, objetos, medidas u observaciones seleccionados de una población. \n",
    "\n",
    "- Para que los resultados de la muestra puedan generalizarse a la población, es necesario que la muestra se elija adecuadamente, es decir, que sea representativa de la población.\n",
    "\n",
    "**Variable:** *Característica de interés acerca de cada elemento de una población o una muestra.*\n",
    "\n",
    "Por ejemplo, supóngase que se está estudiando a un grupo de estudiantes que ingreso a una escuela secundaria, algunas variables que pueden interesarnos son:\n",
    "- Edad\n",
    "- Estatura\n",
    "- Peso\n",
    "- Color de cabello\n",
    "- Número de hermanos\n",
    "\n",
    "\n",
    "- **Dato:** *Valor de la variable asociado a un elemento de una población o una muestra.*\n",
    "\n",
    "Por ejemplo, Juan López ingreso a la secundaria a los \"16 años\", mide \"1.65 metros\", pesa \"60 kilogramos\", tiene cabello \"negro\" y tiene \"3 hermanos\". Cada una de estas cinco mediciones es un dato para cada una de las variables de respuesta dada por Juan López.\n",
    "\n",
    "\n",
    "- **Parámetro:** *Característica numérica de una **población.***\n",
    "\n",
    "Un parámetro es un valor que describe a toda una población, por ejemplo: la edad \"promedio\" de todos los estudiantes al momento de hacer el examen COMIPEMS.\n",
    "\n",
    "\n",
    "- **Valor estadístico:** *Característica numérica de una **muestra.***\n",
    "\n",
    "Un valor estadístico es el que describe a una muestra, por ejemplo: la estatura \"promedio\" de una muestra de 50 alumnos tomada de una población de 500.\n",
    "\n",
    "\n",
    "- **Dato Cualitativo o atributo:** *Es el resultado de asignar una cualidad o algún atributo a los elementos de una población.*\n",
    "\n",
    "Por ejemplo, el color es un atributo de un automóvil.\n",
    "\n",
    "\n",
    "- **Dato Cuantitativo o numérico:** *Es el resultado de un proceso que cuantifica o mide las características de una población.* \n",
    "Por ejemplo: La longitud, la velocidad, el tiempo, el peso, la fuerza, etc. \n",
    "\n",
    "- Los datos cuantitativos se dividen en dos clases:\n",
    "    \n",
    "    - **Discretos:** *Son aquellos que resultan del proceso de **\"contar\"**.* Por ejemplo, el número de alumnos en el salón de clase.\n",
    "    - **Continuos:** *Son aquellos que resultan del proceso de **\"medir\"**.* Por ejemplo, si Juan dice que pesa 70 kilogramos, redondeando a enteros se puede tener la certeza de que su peso es un valor entre 69.5 y 70.5 kilogramos\n"
   ]
  },
  {
   "cell_type": "markdown",
   "metadata": {},
   "source": [
    "# Pasos para elaborar una *Distribución de frecuencias agrupadas*.\n",
    "\n",
    "Cuando se tiene un gran número de datos con un rango muy amplio es conveniente agruparlos, para tener una idea más precisa del conjunto. Los pasos son los siguientes:"
   ]
  },
  {
   "cell_type": "markdown",
   "metadata": {},
   "source": [
    "## Paso 1. Contar el numero de datos.\n",
    "\n"
   ]
  },
  {
   "cell_type": "code",
   "execution_count": 2,
   "metadata": {},
   "outputs": [
    {
     "name": "stdout",
     "output_type": "stream",
     "text": [
      "80\n"
     ]
    }
   ],
   "source": [
    "#Primero importaremos nuestro CSV con nuestros datos:\n",
    "\n",
    "archivo = open('/home/jesus/clases/Estadistica1/medidas.csv' , 'r')\n",
    "\n",
    "data = []\n",
    "\n",
    "for i in archivo:\n",
    "    data.append(float(i))\n",
    "\n",
    "n = len(data)\n",
    "print(n)"
   ]
  },
  {
   "cell_type": "markdown",
   "metadata": {},
   "source": [
    "# Paso 2. Buscar el valor mayor y el valor menor de los datos.\n",
    "\n"
   ]
  },
  {
   "cell_type": "code",
   "execution_count": 3,
   "metadata": {},
   "outputs": [
    {
     "name": "stdout",
     "output_type": "stream",
     "text": [
      "0.96\n",
      "0.56\n"
     ]
    }
   ],
   "source": [
    "maximo = max(data)\n",
    "minimo = min(data)\n",
    "print(maximo)\n",
    "print(minimo)"
   ]
  },
  {
   "cell_type": "markdown",
   "metadata": {},
   "source": [
    "# Paso 3. Calcular el rango:\n",
    "\n",
    " \n",
    "\n",
    "*R = Valor max - Valor min*"
   ]
  },
  {
   "cell_type": "code",
   "execution_count": 4,
   "metadata": {},
   "outputs": [
    {
     "name": "stdout",
     "output_type": "stream",
     "text": [
      "0.4\n"
     ]
    }
   ],
   "source": [
    "rango = maximo - minimo\n",
    "rango = round(rango,3)\n",
    "print(rango)\n"
   ]
  },
  {
   "cell_type": "markdown",
   "metadata": {},
   "source": [
    "# Paso 4. Calcular el número de clases:\n",
    "\n",
    "\n",
    "\n",
    "Utilizamos la regla de Sturges:\n",
    "*k = 1 + 3.3 * log(n)*\n",
    "\n",
    "Donde:\n",
    "- n = número de datos.\n",
    "\n",
    "Si hay demasiadas clases, muchas de ellas contendrán solamente unos cuantos datos y la distribución presentará bastante irregularidad. Si las clases son muy pocas, se acumularán tantos datos en una clase que se perderá mucha información.\n",
    "\n",
    "ceil() = redondear al entero superior\n",
    "\n",
    "floor() = redondear al entero inferior"
   ]
  },
  {
   "cell_type": "code",
   "execution_count": 5,
   "metadata": {},
   "outputs": [
    {
     "name": "stdout",
     "output_type": "stream",
     "text": [
      "8\n"
     ]
    }
   ],
   "source": [
    "from math import log,ceil,floor\n",
    "k = 1 + 3.3 * log(n,10)\n",
    "\n",
    "k = ceil(k)\n",
    "print(k)"
   ]
  },
  {
   "cell_type": "markdown",
   "metadata": {},
   "source": [
    "# Paso 5. Calcular el intervalo de clases\n",
    "\n",
    "*I = R/k*\n",
    "\n",
    "Donde:\n",
    "- R: Rango\n",
    "- k: Número de clases"
   ]
  },
  {
   "cell_type": "code",
   "execution_count": 6,
   "metadata": {},
   "outputs": [
    {
     "name": "stdout",
     "output_type": "stream",
     "text": [
      "0.05\n"
     ]
    }
   ],
   "source": [
    "I = rango/k\n",
    "print(I)"
   ]
  },
  {
   "cell_type": "markdown",
   "metadata": {},
   "source": [
    "# Paso 6. Calcular los limites inferiores y superiores de cada clase.\n",
    "\n",
    "El límite *inferior de la primera clase* es igual al valor mínimo de los datos.\n",
    "\n",
    "El límite *superior de la primera clase* es igual al valor mínimo de los datos más el intervalo.\n",
    "\n",
    "El límite *inferior de la segunda clase* es igual al limite superior de la primera clase.\n",
    "\n",
    "El límite *superior de la segunda clase* es igual al límite inferior de la segunda clase más el intervalo."
   ]
  },
  {
   "cell_type": "code",
   "execution_count": 7,
   "metadata": {},
   "outputs": [
    {
     "name": "stdout",
     "output_type": "stream",
     "text": [
      "0.56\n",
      "0.61\n",
      "0.66\n",
      "0.71\n",
      "0.76\n",
      "0.81\n",
      "0.86\n",
      "0.91\n",
      "0.96\n"
     ]
    }
   ],
   "source": [
    "limites = []\n",
    "for i in range(0, k + 1):\n",
    "    if i == 0:\n",
    "        limites.append(minimo)\n",
    "    else:\n",
    "        limites.append(limites[i-1]+ I)\n",
    "        \n",
    "for i in limites:\n",
    "    i = round(i,3)\n",
    "    print(i)\n"
   ]
  },
  {
   "cell_type": "markdown",
   "metadata": {},
   "source": [
    "# Paso 7. Contar cuantos datos se encuentran dentro de cada clase.\n"
   ]
  },
  {
   "cell_type": "code",
   "execution_count": 8,
   "metadata": {},
   "outputs": [
    {
     "name": "stdout",
     "output_type": "stream",
     "text": [
      "A\n",
      "0\n",
      "1\n",
      "2\n",
      "3\n",
      "4\n",
      "5\n",
      "6\n",
      "7\n",
      "8\n",
      "9\n",
      "B\n",
      "0\n",
      "1\n",
      "2\n",
      "3\n",
      "4\n",
      "5\n",
      "6\n",
      "7\n",
      "8\n",
      "9\n",
      "C\n",
      "0\n",
      "1\n",
      "2\n",
      "3\n",
      "4\n",
      "5\n",
      "6\n",
      "7\n",
      "8\n",
      "9\n"
     ]
    }
   ],
   "source": [
    "letras = ['A','B','C']\n",
    "\n",
    "for i in letras:\n",
    "    print(i)\n",
    "\n",
    "    for j in range(0,10):\n",
    "        print(j)\n"
   ]
  },
  {
   "cell_type": "code",
   "execution_count": 9,
   "metadata": {},
   "outputs": [
    {
     "name": "stdout",
     "output_type": "stream",
     "text": [
      "[6, 11, 7, 21, 12, 8, 8, 7, 0]\n"
     ]
    }
   ],
   "source": [
    "contador = 0\n",
    "frecuencia = []\n",
    "\n",
    "for i in limites:\n",
    "    if i == maximo:\n",
    "        break\n",
    "    \n",
    "    for j in data:\n",
    "        if j >= i and j < i+I:\n",
    "            contador = contador + 1\n",
    "    \n",
    "    frecuencia.append(contador)\n",
    "    contador = 0\n",
    "\n",
    "print(frecuencia)"
   ]
  },
  {
   "cell_type": "markdown",
   "metadata": {},
   "source": [
    "# Paso 8. Graficar\n",
    "\n",
    "importamos matplotlib.pyplot como plot"
   ]
  },
  {
   "cell_type": "code",
   "execution_count": 26,
   "metadata": {},
   "outputs": [
    {
     "name": "stdout",
     "output_type": "stream",
     "text": [
      "[0.56, 0.6100000000000001, 0.6600000000000001, 0.7100000000000002, 0.7600000000000002, 0.8100000000000003, 0.8600000000000003, 0.9100000000000004, 0.9600000000000004]\n",
      "[6, 11, 7, 21, 12, 8, 8, 7, 0]\n"
     ]
    },
    {
     "data": {
      "text/plain": [
       "([<matplotlib.axis.YTick at 0x7fc81e3796a0>,\n",
       "  <matplotlib.axis.YTick at 0x7fc81e35c0d0>,\n",
       "  <matplotlib.axis.YTick at 0x7fc81e1f4940>,\n",
       "  <matplotlib.axis.YTick at 0x7fc81e4538e0>,\n",
       "  <matplotlib.axis.YTick at 0x7fc81e458ac0>,\n",
       "  <matplotlib.axis.YTick at 0x7fc81e565af0>,\n",
       "  <matplotlib.axis.YTick at 0x7fc81e4bd340>,\n",
       "  <matplotlib.axis.YTick at 0x7fc81e4bd040>,\n",
       "  <matplotlib.axis.YTick at 0x7fc81e4b8820>],\n",
       " [Text(0, 0, ''),\n",
       "  Text(0, 0, ''),\n",
       "  Text(0, 0, ''),\n",
       "  Text(0, 0, ''),\n",
       "  Text(0, 0, ''),\n",
       "  Text(0, 0, ''),\n",
       "  Text(0, 0, ''),\n",
       "  Text(0, 0, ''),\n",
       "  Text(0, 0, '')])"
      ]
     },
     "execution_count": 26,
     "metadata": {},
     "output_type": "execute_result"
    },
    {
     "data": {
      "image/png": "[encoded data removed]",
      "text/plain": [
       "<Figure size 432x288 with 1 Axes>"
      ]
     },
     "metadata": {
      "needs_background": "light"
     },
     "output_type": "display_data"
    }
   ],
   "source": [
    "import matplotlib.pyplot as plot\n",
    "\n",
    "\n",
    "print(limites)\n",
    "print(frecuencia)\n",
    "eje_x = ['1','2','3','4','5','6','7','8']\n",
    "eje_y = frecuencia\n",
    "\n",
    "#plot.bar(eje_x, eje_y)\n",
    "plot.hist(x=data, bins = k, color='#02989C', rwidth=0.90)\n",
    "plot.xticks(limites)\n",
    "plot.yticks(frecuencia)\n",
    "\n"
   ]
  }
 ],
 "metadata": {
  "kernelspec": {
   "display_name": "Python 3.9.7 ('base')",
   "language": "python",
   "name": "python3"
  },
  "language_info": {
   "codemirror_mode": {
    "name": "ipython",
    "version": 3
   },
   "file_extension": ".py",
   "mimetype": "text/x-python",
   "name": "python",
   "nbconvert_exporter": "python",
   "pygments_lexer": "ipython3",
   "version": "3.9.7"
  },
  "orig_nbformat": 4,
  "vscode": {
   "interpreter": {
    "hash": "1887026fcd1b072b47c58e40aa32a6384ea48c39cc97a9faa3b1fec939c280df"
   }
  }
 },
 "nbformat": 4,
 "nbformat_minor": 2
}
