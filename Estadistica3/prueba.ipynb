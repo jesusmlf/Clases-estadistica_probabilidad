{
 "cells": [
  {
   "cell_type": "code",
   "execution_count": 2,
   "metadata": {},
   "outputs": [
    {
     "data": {
      "text/plain": [
       "Text(0, 0.5, 'Frecuencias')"
      ]
     },
     "execution_count": 2,
     "metadata": {},
     "output_type": "execute_result"
    },
    {
     "data": {
      "image/png": "[encoded data removed]",
      "text/plain": [
       "<Figure size 432x288 with 1 Axes>"
      ]
     },
     "metadata": {
      "needs_background": "light"
     },
     "output_type": "display_data"
    }
   ],
   "source": [
    "import DistribucionFrecuencias as DF\n",
    "import matplotlib.pyplot as plot\n",
    "import pandas as pd\n",
    "import numpy as np\n",
    "\n",
    "archivo = open('medidas.csv')\n",
    "datos = []\n",
    "\n",
    "for i in archivo:\n",
    "    datos.append(float(i))\n",
    "\n",
    "N = DF.NumeroDatos(datos)\n",
    "maximo = max(datos)\n",
    "minimo = min(datos)\n",
    "R = DF.Rango(maximo,minimo)\n",
    "\n",
    "K = DF.NumeroClases(N)\n",
    "I = DF.IntervaloClases(R,K)\n",
    "\n",
    "limites = DF.Limites(I,minimo,K)\n",
    "frecuencia = DF.Contar(datos,limites,I,maximo)\n",
    "\n",
    "eje_y = []\n",
    "\n",
    "for i in range(0,max(frecuencia)+1):\n",
    "    if i%2 == 0:\n",
    "        eje_y.append(i)\n",
    "    \n",
    "\n",
    "plot.hist(x=datos,bins = K,rwidth=0.94,color='#223082')\n",
    "plot.xticks(limites)\n",
    "plot.yticks(eje_y)\n",
    "plot.title('Histograma')\n",
    "plot.xlabel('Intervalos')\n",
    "plot.ylabel('Frecuencias')\n"
   ]
  },
  {
   "cell_type": "code",
   "execution_count": 3,
   "metadata": {},
   "outputs": [
    {
     "data": {
      "text/html": [
       "<div>\n",
       "<style scoped>\n",
       "    .dataframe tbody tr th:only-of-type {\n",
       "        vertical-align: middle;\n",
       "    }\n",
       "\n",
       "    .dataframe tbody tr th {\n",
       "        vertical-align: top;\n",
       "    }\n",
       "\n",
       "    .dataframe thead th {\n",
       "        text-align: right;\n",
       "    }\n",
       "</style>\n",
       "<table border=\"1\" class=\"dataframe\">\n",
       "  <thead>\n",
       "    <tr style=\"text-align: right;\">\n",
       "      <th></th>\n",
       "      <th>Clase</th>\n",
       "      <th>Intervalo</th>\n",
       "      <th>Marca de Clase</th>\n",
       "      <th>Frecuencia</th>\n",
       "      <th>Frecuencia Acumulada</th>\n",
       "    </tr>\n",
       "  </thead>\n",
       "  <tbody>\n",
       "    <tr>\n",
       "      <th>0</th>\n",
       "      <td>1</td>\n",
       "      <td>0.56-0.61</td>\n",
       "      <td>0.585</td>\n",
       "      <td>6</td>\n",
       "      <td>6</td>\n",
       "    </tr>\n",
       "    <tr>\n",
       "      <th>1</th>\n",
       "      <td>2</td>\n",
       "      <td>0.61-0.66</td>\n",
       "      <td>0.635</td>\n",
       "      <td>11</td>\n",
       "      <td>17</td>\n",
       "    </tr>\n",
       "    <tr>\n",
       "      <th>2</th>\n",
       "      <td>3</td>\n",
       "      <td>0.66-0.71</td>\n",
       "      <td>0.685</td>\n",
       "      <td>7</td>\n",
       "      <td>24</td>\n",
       "    </tr>\n",
       "    <tr>\n",
       "      <th>3</th>\n",
       "      <td>4</td>\n",
       "      <td>0.71-0.76</td>\n",
       "      <td>0.735</td>\n",
       "      <td>21</td>\n",
       "      <td>45</td>\n",
       "    </tr>\n",
       "    <tr>\n",
       "      <th>4</th>\n",
       "      <td>5</td>\n",
       "      <td>0.76-0.81</td>\n",
       "      <td>0.785</td>\n",
       "      <td>12</td>\n",
       "      <td>57</td>\n",
       "    </tr>\n",
       "    <tr>\n",
       "      <th>5</th>\n",
       "      <td>6</td>\n",
       "      <td>0.81-0.86</td>\n",
       "      <td>0.835</td>\n",
       "      <td>8</td>\n",
       "      <td>65</td>\n",
       "    </tr>\n",
       "    <tr>\n",
       "      <th>6</th>\n",
       "      <td>7</td>\n",
       "      <td>0.86-0.91</td>\n",
       "      <td>0.885</td>\n",
       "      <td>8</td>\n",
       "      <td>73</td>\n",
       "    </tr>\n",
       "    <tr>\n",
       "      <th>7</th>\n",
       "      <td>8</td>\n",
       "      <td>0.91-0.96</td>\n",
       "      <td>0.935</td>\n",
       "      <td>7</td>\n",
       "      <td>80</td>\n",
       "    </tr>\n",
       "  </tbody>\n",
       "</table>\n",
       "</div>"
      ],
      "text/plain": [
       "   Clase  Intervalo  Marca de Clase  Frecuencia  Frecuencia Acumulada\n",
       "0      1  0.56-0.61           0.585           6                     6\n",
       "1      2  0.61-0.66           0.635          11                    17\n",
       "2      3  0.66-0.71           0.685           7                    24\n",
       "3      4  0.71-0.76           0.735          21                    45\n",
       "4      5  0.76-0.81           0.785          12                    57\n",
       "5      6  0.81-0.86           0.835           8                    65\n",
       "6      7  0.86-0.91           0.885           8                    73\n",
       "7      8  0.91-0.96           0.935           7                    80"
      ]
     },
     "execution_count": 3,
     "metadata": {},
     "output_type": "execute_result"
    },
    {
     "data": {
      "image/png": "[encoded data removed]",
      "text/plain": [
       "<Figure size 432x288 with 1 Axes>"
      ]
     },
     "metadata": {
      "needs_background": "light"
     },
     "output_type": "display_data"
    }
   ],
   "source": [
    "data_fr = []\n",
    "data_fr = pd.DataFrame(data_fr)\n",
    "clases = []\n",
    "for i in range(1,K+1):\n",
    "    clases.append(i)\n",
    "\n",
    "data_fr['Clase'] = clases\n",
    "\n",
    "intervalos = DF.Intervalos(limites)\n",
    "\n",
    "data_fr['Intervalo'] = intervalos\n",
    "\n",
    "marca_clase = DF.MarcaClase(limites)\n",
    "\n",
    "data_fr['Marca de Clase'] = marca_clase\n",
    "\n",
    "data_fr['Frecuencia'] = frecuencia\n",
    "\n",
    "data_fr.head()\n",
    "\n",
    "plot.hist(x=datos,bins = K,rwidth=0.94,color='#223082')\n",
    "plot.xticks(limites)\n",
    "plot.yticks(eje_y)\n",
    "plot.title('Histograma')\n",
    "plot.xlabel('Intervalos')\n",
    "plot.ylabel('Frecuencias')\n",
    "plot.plot(marca_clase,frecuencia,color='red',marker='o')\n",
    "\n",
    "frecuencia_acumulada = DF.FrecuenciaAcumulada(frecuencia)\n",
    "data_fr['Frecuencia Acumulada'] = frecuencia_acumulada\n",
    "data_fr.head(10)"
   ]
  },
  {
   "cell_type": "code",
   "execution_count": 4,
   "metadata": {},
   "outputs": [
    {
     "name": "stdout",
     "output_type": "stream",
     "text": [
      "[0.61 0.66 0.71 0.76 0.81 0.86 0.91 0.96]\n"
     ]
    },
    {
     "data": {
      "text/plain": [
       "Text(0.5, 1.0, \"'Ojiva menor que'\")"
      ]
     },
     "execution_count": 4,
     "metadata": {},
     "output_type": "execute_result"
    },
    {
     "data": {
      "image/png": "[encoded data removed]",
      "text/plain": [
       "<Figure size 432x288 with 1 Axes>"
      ]
     },
     "metadata": {
      "needs_background": "light"
     },
     "output_type": "display_data"
    }
   ],
   "source": [
    "limites_ojivas = np.delete(limites,0)\n",
    "print(limites_ojivas)\n",
    "\n",
    "plot.plot(limites_ojivas,frecuencia_acumulada,color=\"orange\",marker='o')\n",
    "plot.xticks(limites_ojivas)\n",
    "plot.yticks(frecuencia_acumulada)\n",
    "plot.title(\"'Ojiva menor que'\")"
   ]
  },
  {
   "cell_type": "code",
   "execution_count": 5,
   "metadata": {},
   "outputs": [
    {
     "data": {
      "text/html": [
       "<div>\n",
       "<style scoped>\n",
       "    .dataframe tbody tr th:only-of-type {\n",
       "        vertical-align: middle;\n",
       "    }\n",
       "\n",
       "    .dataframe tbody tr th {\n",
       "        vertical-align: top;\n",
       "    }\n",
       "\n",
       "    .dataframe thead th {\n",
       "        text-align: right;\n",
       "    }\n",
       "</style>\n",
       "<table border=\"1\" class=\"dataframe\">\n",
       "  <thead>\n",
       "    <tr style=\"text-align: right;\">\n",
       "      <th></th>\n",
       "      <th>Clase</th>\n",
       "      <th>Intervalo</th>\n",
       "      <th>Marca de Clase</th>\n",
       "      <th>Frecuencia</th>\n",
       "      <th>Frecuencia Acumulada</th>\n",
       "      <th>Frecuencia Relativa (%)</th>\n",
       "    </tr>\n",
       "  </thead>\n",
       "  <tbody>\n",
       "    <tr>\n",
       "      <th>0</th>\n",
       "      <td>1</td>\n",
       "      <td>0.56-0.61</td>\n",
       "      <td>0.585</td>\n",
       "      <td>6</td>\n",
       "      <td>6</td>\n",
       "      <td>7.50</td>\n",
       "    </tr>\n",
       "    <tr>\n",
       "      <th>1</th>\n",
       "      <td>2</td>\n",
       "      <td>0.61-0.66</td>\n",
       "      <td>0.635</td>\n",
       "      <td>11</td>\n",
       "      <td>17</td>\n",
       "      <td>13.75</td>\n",
       "    </tr>\n",
       "    <tr>\n",
       "      <th>2</th>\n",
       "      <td>3</td>\n",
       "      <td>0.66-0.71</td>\n",
       "      <td>0.685</td>\n",
       "      <td>7</td>\n",
       "      <td>24</td>\n",
       "      <td>8.75</td>\n",
       "    </tr>\n",
       "    <tr>\n",
       "      <th>3</th>\n",
       "      <td>4</td>\n",
       "      <td>0.71-0.76</td>\n",
       "      <td>0.735</td>\n",
       "      <td>21</td>\n",
       "      <td>45</td>\n",
       "      <td>26.25</td>\n",
       "    </tr>\n",
       "    <tr>\n",
       "      <th>4</th>\n",
       "      <td>5</td>\n",
       "      <td>0.76-0.81</td>\n",
       "      <td>0.785</td>\n",
       "      <td>12</td>\n",
       "      <td>57</td>\n",
       "      <td>15.00</td>\n",
       "    </tr>\n",
       "  </tbody>\n",
       "</table>\n",
       "</div>"
      ],
      "text/plain": [
       "   Clase  Intervalo  Marca de Clase  Frecuencia  Frecuencia Acumulada  \\\n",
       "0      1  0.56-0.61           0.585           6                     6   \n",
       "1      2  0.61-0.66           0.635          11                    17   \n",
       "2      3  0.66-0.71           0.685           7                    24   \n",
       "3      4  0.71-0.76           0.735          21                    45   \n",
       "4      5  0.76-0.81           0.785          12                    57   \n",
       "\n",
       "   Frecuencia Relativa (%)  \n",
       "0                     7.50  \n",
       "1                    13.75  \n",
       "2                     8.75  \n",
       "3                    26.25  \n",
       "4                    15.00  "
      ]
     },
     "execution_count": 5,
     "metadata": {},
     "output_type": "execute_result"
    }
   ],
   "source": [
    "frecuencia_relativa = DF.FrecuenciaRelativa(frecuencia,N)\n",
    "\n",
    "data_fr['Frecuencia Relativa (%)'] = frecuencia_relativa\n",
    "data_fr.head()"
   ]
  },
  {
   "cell_type": "code",
   "execution_count": 11,
   "metadata": {},
   "outputs": [
    {
     "name": "stdout",
     "output_type": "stream",
     "text": [
      "[7.5, 21.25, 30.0, 56.25, 71.25, 81.25, 91.25, 100.0]\n"
     ]
    },
    {
     "data": {
      "text/html": [
       "<div>\n",
       "<style scoped>\n",
       "    .dataframe tbody tr th:only-of-type {\n",
       "        vertical-align: middle;\n",
       "    }\n",
       "\n",
       "    .dataframe tbody tr th {\n",
       "        vertical-align: top;\n",
       "    }\n",
       "\n",
       "    .dataframe thead th {\n",
       "        text-align: right;\n",
       "    }\n",
       "</style>\n",
       "<table border=\"1\" class=\"dataframe\">\n",
       "  <thead>\n",
       "    <tr style=\"text-align: right;\">\n",
       "      <th></th>\n",
       "      <th>Clase</th>\n",
       "      <th>Intervalo</th>\n",
       "      <th>Marca de Clase</th>\n",
       "      <th>Frecuencia</th>\n",
       "      <th>Frecuencia Acumulada</th>\n",
       "      <th>Frecuencia Relativa (%)</th>\n",
       "      <th>Frecuencia Relativa Acumulada (%)</th>\n",
       "    </tr>\n",
       "  </thead>\n",
       "  <tbody>\n",
       "    <tr>\n",
       "      <th>0</th>\n",
       "      <td>1</td>\n",
       "      <td>0.56-0.61</td>\n",
       "      <td>0.585</td>\n",
       "      <td>6</td>\n",
       "      <td>6</td>\n",
       "      <td>7.50</td>\n",
       "      <td>7.50</td>\n",
       "    </tr>\n",
       "    <tr>\n",
       "      <th>1</th>\n",
       "      <td>2</td>\n",
       "      <td>0.61-0.66</td>\n",
       "      <td>0.635</td>\n",
       "      <td>11</td>\n",
       "      <td>17</td>\n",
       "      <td>13.75</td>\n",
       "      <td>21.25</td>\n",
       "    </tr>\n",
       "    <tr>\n",
       "      <th>2</th>\n",
       "      <td>3</td>\n",
       "      <td>0.66-0.71</td>\n",
       "      <td>0.685</td>\n",
       "      <td>7</td>\n",
       "      <td>24</td>\n",
       "      <td>8.75</td>\n",
       "      <td>30.00</td>\n",
       "    </tr>\n",
       "    <tr>\n",
       "      <th>3</th>\n",
       "      <td>4</td>\n",
       "      <td>0.71-0.76</td>\n",
       "      <td>0.735</td>\n",
       "      <td>21</td>\n",
       "      <td>45</td>\n",
       "      <td>26.25</td>\n",
       "      <td>56.25</td>\n",
       "    </tr>\n",
       "    <tr>\n",
       "      <th>4</th>\n",
       "      <td>5</td>\n",
       "      <td>0.76-0.81</td>\n",
       "      <td>0.785</td>\n",
       "      <td>12</td>\n",
       "      <td>57</td>\n",
       "      <td>15.00</td>\n",
       "      <td>71.25</td>\n",
       "    </tr>\n",
       "    <tr>\n",
       "      <th>5</th>\n",
       "      <td>6</td>\n",
       "      <td>0.81-0.86</td>\n",
       "      <td>0.835</td>\n",
       "      <td>8</td>\n",
       "      <td>65</td>\n",
       "      <td>10.00</td>\n",
       "      <td>81.25</td>\n",
       "    </tr>\n",
       "    <tr>\n",
       "      <th>6</th>\n",
       "      <td>7</td>\n",
       "      <td>0.86-0.91</td>\n",
       "      <td>0.885</td>\n",
       "      <td>8</td>\n",
       "      <td>73</td>\n",
       "      <td>10.00</td>\n",
       "      <td>91.25</td>\n",
       "    </tr>\n",
       "    <tr>\n",
       "      <th>7</th>\n",
       "      <td>8</td>\n",
       "      <td>0.91-0.96</td>\n",
       "      <td>0.935</td>\n",
       "      <td>7</td>\n",
       "      <td>80</td>\n",
       "      <td>8.75</td>\n",
       "      <td>100.00</td>\n",
       "    </tr>\n",
       "  </tbody>\n",
       "</table>\n",
       "</div>"
      ],
      "text/plain": [
       "   Clase  Intervalo  Marca de Clase  Frecuencia  Frecuencia Acumulada  \\\n",
       "0      1  0.56-0.61           0.585           6                     6   \n",
       "1      2  0.61-0.66           0.635          11                    17   \n",
       "2      3  0.66-0.71           0.685           7                    24   \n",
       "3      4  0.71-0.76           0.735          21                    45   \n",
       "4      5  0.76-0.81           0.785          12                    57   \n",
       "5      6  0.81-0.86           0.835           8                    65   \n",
       "6      7  0.86-0.91           0.885           8                    73   \n",
       "7      8  0.91-0.96           0.935           7                    80   \n",
       "\n",
       "   Frecuencia Relativa (%)  Frecuencia Relativa Acumulada (%)  \n",
       "0                     7.50                               7.50  \n",
       "1                    13.75                              21.25  \n",
       "2                     8.75                              30.00  \n",
       "3                    26.25                              56.25  \n",
       "4                    15.00                              71.25  \n",
       "5                    10.00                              81.25  \n",
       "6                    10.00                              91.25  \n",
       "7                     8.75                             100.00  "
      ]
     },
     "execution_count": 11,
     "metadata": {},
     "output_type": "execute_result"
    }
   ],
   "source": [
    "FRA = DF.FrecuenciaRelativaAcumulada(frecuencia_acumulada,N)\n",
    "print(FRA)\n",
    "data_fr['Frecuencia Relativa Acumulada (%)']=FRA\n",
    "data_fr.head(10)"
   ]
  },
  {
   "cell_type": "code",
   "execution_count": 13,
   "metadata": {},
   "outputs": [
    {
     "data": {
      "text/plain": [
       "([<matplotlib.axis.YTick at 0x7faf2f48dee0>,\n",
       "  <matplotlib.axis.YTick at 0x7faf2f48d760>,\n",
       "  <matplotlib.axis.YTick at 0x7faf2f4816a0>,\n",
       "  <matplotlib.axis.YTick at 0x7faf2f222ca0>,\n",
       "  <matplotlib.axis.YTick at 0x7faf2f229430>,\n",
       "  <matplotlib.axis.YTick at 0x7faf2f229b80>,\n",
       "  <matplotlib.axis.YTick at 0x7faf2f22e310>,\n",
       "  <matplotlib.axis.YTick at 0x7faf2f22ea60>],\n",
       " [Text(0, 0, ''),\n",
       "  Text(0, 0, ''),\n",
       "  Text(0, 0, ''),\n",
       "  Text(0, 0, ''),\n",
       "  Text(0, 0, ''),\n",
       "  Text(0, 0, ''),\n",
       "  Text(0, 0, ''),\n",
       "  Text(0, 0, '')])"
      ]
     },
     "execution_count": 13,
     "metadata": {},
     "output_type": "execute_result"
    },
    {
     "data": {
      "image/png": "[encoded data removed]",
      "text/plain": [
       "<Figure size 432x288 with 1 Axes>"
      ]
     },
     "metadata": {
      "needs_background": "light"
     },
     "output_type": "display_data"
    }
   ],
   "source": [
    "plot.plot(limites_ojivas,FRA,marker='o')\n",
    "plot.title(\"Ojiva porcentual menor que\")\n",
    "plot.xticks(limites_ojivas)\n",
    "plot.yticks(FRA)"
   ]
  }
 ],
 "metadata": {
  "kernelspec": {
   "display_name": "Python 3.9.7 ('base')",
   "language": "python",
   "name": "python3"
  },
  "language_info": {
   "codemirror_mode": {
    "name": "ipython",
    "version": 3
   },
   "file_extension": ".py",
   "mimetype": "text/x-python",
   "name": "python",
   "nbconvert_exporter": "python",
   "pygments_lexer": "ipython3",
   "version": "3.9.7"
  },
  "orig_nbformat": 4,
  "vscode": {
   "interpreter": {
    "hash": "1887026fcd1b072b47c58e40aa32a6384ea48c39cc97a9faa3b1fec939c280df"
   }
  }
 },
 "nbformat": 4,
 "nbformat_minor": 2
}
