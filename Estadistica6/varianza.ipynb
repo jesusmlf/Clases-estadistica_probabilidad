{
 "cells": [
  {
   "cell_type": "markdown",
   "metadata": {},
   "source": [
    "# Varianza\n",
    "\n",
    "La varianza se define como el promedio de las desviaciones al cuadrado de la media y está dada por $s^2$.\n",
    "\n",
    "Ejemplo: Hallar la varianza y la desviación estandar de la siguiente serie de números: "
   ]
  },
  {
   "cell_type": "code",
   "execution_count": null,
   "metadata": {},
   "outputs": [],
   "source": [
    "nums  = [14,6,7,3,15,10,18,5,12,16]"
   ]
  }
 ],
 "metadata": {
  "kernelspec": {
   "display_name": "Python 3.9.7 ('base')",
   "language": "python",
   "name": "python3"
  },
  "language_info": {
   "name": "python",
   "version": "3.9.7"
  },
  "orig_nbformat": 4,
  "vscode": {
   "interpreter": {
    "hash": "1887026fcd1b072b47c58e40aa32a6384ea48c39cc97a9faa3b1fec939c280df"
   }
  }
 },
 "nbformat": 4,
 "nbformat_minor": 2
}
