{
 "cells": [
  {
   "cell_type": "markdown",
   "metadata": {},
   "source": [
    "# Medidas de dispersión.\n",
    "\n",
    "Las medidas de tendencia central por sí mismas, no son suficientes para describir a una distribución, se localizan en el centro, pero no indican nada acerca de la dispersión o variabilidad de los datos, es decir cómo están situados respecto al centro.\n",
    "\n",
    "Para tener una imagen más clara de una distribución, se necesita conocer, tantouna medida de tendencia central como otra de dispersión. Entre las medidas de dispersión más conocidas tenemos:\n",
    "- El rango.\n",
    "- La varianza.\n",
    "- La desviación estándar.\n",
    "\n",
    "## La desviación estándar.\n",
    "\n",
    "La desviación estándar ($s$) de un conjunto de *N* números $X_1,X_2,X_3,...,X_N$ está definida por: $$s = \\sqrt{\\frac{\\sum_{i=1}^{N}(X_i - \\bar{X})^2}{N}}$$\n",
    "\n",
    "En donde $X_i - \\bar{X}$ representa las desviaciones de cada uno de los numeros $X_i$ respecto a la media $\\bar{X}$.\n",
    "\n",
    "Si desarrollamos el cuadrado en la ecuación anterior, obtenemos: $$s = \\sqrt{\\frac{\\sum_{i=1}^{N}(X_i)^2}{N} - (\\bar{X})^2}$$\n"
   ]
  },
  {
   "cell_type": "markdown",
   "metadata": {},
   "source": [
    "Ejemplo. Una compañia especializada en la fabricación de ejes para máquina está planeando la compra de una máquina de corte controlada por computadora. El ingeniero de la compañia prueba dos máquinas de diferentes fabricantes. Los diámetros (en pulgadas) de las barras cortadas por las máquinas fueron: "
   ]
  },
  {
   "cell_type": "code",
   "execution_count": 89,
   "metadata": {},
   "outputs": [],
   "source": [
    "fabricante1 = [2.001,2.000,2.004,1.998,1.997]\n",
    "fabricante2 = [2.002,2.008,1.995,1.990,2.005]"
   ]
  },
  {
   "cell_type": "markdown",
   "metadata": {},
   "source": [
    "Calcular la media y la desviación estándar para cada caso y comentar acerca de los resultados obtenidos de las dos máquinas."
   ]
  },
  {
   "cell_type": "code",
   "execution_count": 90,
   "metadata": {},
   "outputs": [
    {
     "name": "stdout",
     "output_type": "stream",
     "text": [
      "2.0\n"
     ]
    }
   ],
   "source": [
    "#Calcular la media para el frabicante 1.\n",
    "suma = 0\n",
    "for i in fabricante1:\n",
    "    suma = suma + i\n",
    "media1 = round(suma/len(fabricante1),3)\n",
    "print(media1)"
   ]
  },
  {
   "cell_type": "code",
   "execution_count": 91,
   "metadata": {},
   "outputs": [],
   "source": [
    "#Calcular la media para el fabricante 2."
   ]
  },
  {
   "cell_type": "code",
   "execution_count": 92,
   "metadata": {},
   "outputs": [
    {
     "name": "stdout",
     "output_type": "stream",
     "text": [
      "0.0024\n"
     ]
    }
   ],
   "source": [
    "#Calular la desviación estándar para la máquina del primer fabricante.\n",
    "from math import sqrt\n",
    "suma = 0\n",
    "for i in fabricante1:\n",
    "    suma = suma + i **2\n",
    "\n",
    "s = round(sqrt((suma/len(fabricante1))-(media1**2)),4)\n",
    "print(s)"
   ]
  },
  {
   "cell_type": "code",
   "execution_count": 93,
   "metadata": {},
   "outputs": [],
   "source": [
    "#Calular la desviación estándar para la máquina del primer fabricante.\n"
   ]
  },
  {
   "cell_type": "code",
   "execution_count": null,
   "metadata": {},
   "outputs": [],
   "source": []
  },
  {
   "cell_type": "code",
   "execution_count": 94,
   "metadata": {},
   "outputs": [
    {
     "data": {
      "text/plain": [
       "<matplotlib.lines.Line2D at 0x7fd657e5bc40>"
      ]
     },
     "execution_count": 94,
     "metadata": {},
     "output_type": "execute_result"
    },
    {
     "data": {
      "image/png": "[encoded data removed]",
      "text/plain": [
       "<Figure size 432x288 with 1 Axes>"
      ]
     },
     "metadata": {},
     "output_type": "display_data"
    }
   ],
   "source": [
    "import seaborn as sns\n",
    "import matplotlib.pyplot as plot\n",
    "\n",
    "\n",
    "data = [fabricante1,fabricante2]\n",
    "sns.set_style(\"darkgrid\")\n",
    "sns.boxplot(data=data,orient=\"h\",width=0.5,palette = \"Purples\")\n",
    "sns.swarmplot(data=data,color = \"r\",orient=\"h\")\n",
    "plot.xlabel(\"Fabricantes\")\n",
    "plot.axvline(media1,color =\"0\")\n"
   ]
  },
  {
   "cell_type": "markdown",
   "metadata": {},
   "source": [
    "Ejemplo 2: En la rutina de un laboratorio, se toma una muestra de 13 píldoras de cada uno de los lotes que se recibe y se calcula la media del componente activo (medido en miligramos), la cual debe ser lo más parecida posible a 0.62 mg. ¿De cuál de las siguientes dos farmacéuticas es más conveniente comprar un lote de medicamentos?"
   ]
  },
  {
   "cell_type": "code",
   "execution_count": 95,
   "metadata": {},
   "outputs": [],
   "source": [
    "\n",
    "Farmaceutica1 = [0.65,0.61,0.59,0.6,0.55,0.64,0.6,0.58,0.62,0.57,0.56,0.6,0.63]\n",
    "Farmaceutica2 = [0.7,0.55,0.35,0.6,0.4,0.75,0.6,0.85,0.5,0.6,0.45,0.8,0.65]"
   ]
  },
  {
   "cell_type": "code",
   "execution_count": 96,
   "metadata": {},
   "outputs": [
    {
     "name": "stdout",
     "output_type": "stream",
     "text": [
      "La media de la farmaceutica 1 es: 0.6\n"
     ]
    }
   ],
   "source": [
    "suma = 0\n",
    "for i in Farmaceutica1:\n",
    "    suma = suma + i\n",
    "\n",
    "media1 = suma/len(Farmaceutica1)\n",
    "print(f\"La media de la farmaceutica 1 es: {media1}\")"
   ]
  },
  {
   "cell_type": "code",
   "execution_count": 97,
   "metadata": {},
   "outputs": [
    {
     "name": "stdout",
     "output_type": "stream",
     "text": [
      "La media de la farmaceutica 2 es: 0.6\n"
     ]
    }
   ],
   "source": [
    "suma = 0\n",
    "for i in Farmaceutica2:\n",
    "    suma = suma + i\n",
    "\n",
    "media2 = suma/len(Farmaceutica2)\n",
    "print(f\"La media de la farmaceutica 2 es: {media2}\")"
   ]
  },
  {
   "cell_type": "code",
   "execution_count": 98,
   "metadata": {},
   "outputs": [
    {
     "name": "stdout",
     "output_type": "stream",
     "text": [
      "0.0291\n"
     ]
    }
   ],
   "source": [
    "from math import sqrt\n",
    "suma = 0\n",
    "for i in Farmaceutica1:\n",
    "    suma = suma + i**2\n",
    "\n",
    "s1 = round(sqrt( ( suma / len(Farmaceutica1) ) - media1 ** 2),4)\n",
    "print(s1)"
   ]
  },
  {
   "cell_type": "code",
   "execution_count": 99,
   "metadata": {},
   "outputs": [
    {
     "name": "stdout",
     "output_type": "stream",
     "text": [
      "0.1454\n"
     ]
    }
   ],
   "source": [
    "suma = 0\n",
    "for i in Farmaceutica2:\n",
    "    suma = suma + i**2\n",
    "\n",
    "s2 = round(sqrt( ( suma / len(Farmaceutica2) ) - media2 ** 2),4)\n",
    "print(s2)"
   ]
  },
  {
   "cell_type": "code",
   "execution_count": 100,
   "metadata": {},
   "outputs": [
    {
     "name": "stdout",
     "output_type": "stream",
     "text": [
      "Rango farmaceutica 1: 0.1\n",
      "Rango farmaceutica 2: 0.5\n"
     ]
    }
   ],
   "source": [
    "rango1 = round(max(Farmaceutica1) - min(Farmaceutica1),4)\n",
    "rango2 = round(max(Farmaceutica2) - min(Farmaceutica2),4)\n",
    "\n",
    "print(f\"Rango farmaceutica 1: {rango1}\")\n",
    "print(f\"Rango farmaceutica 2: {rango2}\")"
   ]
  },
  {
   "cell_type": "code",
   "execution_count": 101,
   "metadata": {},
   "outputs": [
    {
     "data": {
      "text/plain": [
       "<matplotlib.lines.Line2D at 0x7fd657e2e490>"
      ]
     },
     "execution_count": 101,
     "metadata": {},
     "output_type": "execute_result"
    },
    {
     "data": {
      "image/png": "[encoded data removed]",
      "text/plain": [
       "<Figure size 432x288 with 1 Axes>"
      ]
     },
     "metadata": {},
     "output_type": "display_data"
    }
   ],
   "source": [
    "data = [Farmaceutica1,Farmaceutica2]\n",
    "\n",
    "sns.boxplot(data = data,orient = \"h\",palette=\"Purples\",width=0.5)\n",
    "sns.swarmplot(data=data,color=\"red\",orient=\"h\")\n",
    "plot.axvline(media1,color = \"gray\")"
   ]
  },
  {
   "cell_type": "code",
   "execution_count": 102,
   "metadata": {},
   "outputs": [
    {
     "name": "stdout",
     "output_type": "stream",
     "text": [
      "0.35\n",
      "0.85\n"
     ]
    }
   ],
   "source": [
    "print(min(Farmaceutica2))\n",
    "print(max(Farmaceutica2))"
   ]
  },
  {
   "cell_type": "code",
   "execution_count": 103,
   "metadata": {},
   "outputs": [
    {
     "data": {
      "text/plain": [
       "<AxesSubplot:>"
      ]
     },
     "execution_count": 103,
     "metadata": {},
     "output_type": "execute_result"
    },
    {
     "data": {
      "image/png": "[encoded data removed]",
      "text/plain": [
       "<Figure size 432x288 with 1 Axes>"
      ]
     },
     "metadata": {},
     "output_type": "display_data"
    }
   ],
   "source": [
    "sns.boxplot(data = Farmaceutica1,orient= \"h\")\n",
    "sns.swarmplot(data = Farmaceutica1,color = \"red\",orient=\"h\")"
   ]
  }
 ],
 "metadata": {
  "kernelspec": {
   "display_name": "Python 3.9.7 ('base')",
   "language": "python",
   "name": "python3"
  },
  "language_info": {
   "codemirror_mode": {
    "name": "ipython",
    "version": 3
   },
   "file_extension": ".py",
   "mimetype": "text/x-python",
   "name": "python",
   "nbconvert_exporter": "python",
   "pygments_lexer": "ipython3",
   "version": "3.9.7"
  },
  "orig_nbformat": 4,
  "vscode": {
   "interpreter": {
    "hash": "1887026fcd1b072b47c58e40aa32a6384ea48c39cc97a9faa3b1fec939c280df"
   }
  }
 },
 "nbformat": 4,
 "nbformat_minor": 2
}
