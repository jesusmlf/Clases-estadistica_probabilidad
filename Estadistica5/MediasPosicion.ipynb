{
 "cells": [
  {
   "cell_type": "markdown",
   "metadata": {},
   "source": [
    "# Medidas de posición\n",
    "\n",
    "Las medidas de posición nos permiten hallar la ubicación de un dato específico en relación con el resto de la muestra. Algunas de las medidas de posición más importantes son los cuartiles, deciles y percentiles.\n",
    "\n",
    "## Cuartiles.\n",
    "\n",
    "Los cuartiles son números que dividen a los datos **ordenados** en cuatro partes iguales (es decir, en 25%, 50% y 75%). Tales valores representados por ${Q_{1}}$, ${Q_{2}}$ y  ${Q_{3}}$, se llaman respectivamente, primer, segundo y tercer **cuartil**.\n",
    "\n",
    "Podemos observar que el cuartil ${Q_{2}}$ es igual a la mediana del conjunto de datos.\n",
    "\n",
    "Para determinar los cuartiles en una serie de datos, primero se colocan en orden de magnitud y se halla la posición $({P_{o}})$ de cada cuartil mediante el uso de la siguiente fórmula: $$P_{o}Q_{i} = \\frac{in}{4},  i=1,2,3$$\n",
    "\n"
   ]
  },
  {
   "cell_type": "markdown",
   "metadata": {},
   "source": [
    "Ejemplo. Hallar ${Q_{1}}$, ${Q_{2}}$ y  ${Q_{3}}$ para el conjunto de numeros siguientes:"
   ]
  },
  {
   "cell_type": "code",
   "execution_count": 29,
   "metadata": {},
   "outputs": [
    {
     "name": "stdout",
     "output_type": "stream",
     "text": [
      "22\n",
      "[5.5, 11.0, 16.5]\n"
     ]
    },
    {
     "data": {
      "text/plain": [
       "[13.0, 27.0, 38.25]"
      ]
     },
     "execution_count": 29,
     "metadata": {},
     "output_type": "execute_result"
    }
   ],
   "source": [
    "from statistics import quantiles\n",
    "numeros = [3,5,6,8,10,14,17,20,22,25,26,28,29,30,33,35,38,39,40,42,46,48]\n",
    "n = len(numeros)\n",
    "print(n)\n",
    "\n",
    "PoCuartiles = []\n",
    "def posicionCuartil(n):\n",
    "    for i in range(1,4):\n",
    "        PoCuartiles.append( (i*n)/4 )\n",
    "    return PoCuartiles\n",
    "\n",
    "posicionCuartil(n)\n",
    "print(PoCuartiles)\n",
    "\n",
    "quantiles(numeros, n=4)"
   ]
  },
  {
   "cell_type": "markdown",
   "metadata": {},
   "source": [
    "El cuartil $Q_{1}$ ocupa la posición 5.5 en la serie de números, esto es, se encuentra a 0.5 unidades entre el 5º y 6º lugar, ocupados respectivamente por los números 10 y 14.\n",
    "\n",
    "El valor del primer cuartil es el promedio entre el 5º y º6 dato."
   ]
  },
  {
   "cell_type": "code",
   "execution_count": null,
   "metadata": {},
   "outputs": [],
   "source": []
  },
  {
   "cell_type": "markdown",
   "metadata": {},
   "source": [
    "Otra forma de hallar el valor del cuartil es por interpolación.\n",
    "\n",
    "Por ejemplo: El cuartil 3 ocupa la posición 16.5, es decir, a 0.5 unidades entre el 16º y 17º lugar, ocupados respectivamente por los números 35 y 38.\n",
    "\n",
    "$Q_3 = 35 + 0.5(38-35) = 36.5$\n",
    "\n"
   ]
  },
  {
   "cell_type": "markdown",
   "metadata": {},
   "source": [
    "### Cuartiles en distribuciones de frecuencias.\n",
    "\n",
    "Para determinar el valor de los cuartiles en una distribución de frecuencias, primero hallamos la posición que ocupan, mediante la formula anterior. Enseguida, sus valores se calculan mediante el empleo de la fórmula: $$Q_i = L_i + (\\frac{P_o Q_i - (\\sum f)_i}{f_i}) * c , i=1,2,3$$\n",
    "\n",
    "Donde:\n",
    "- $L_i =$ Límite inferior de la clase cuartil \"$i$\".\n",
    "- $P_O Q_i =$ Posición del cuartil \"$i$\".\n",
    "- $(\\sum f)_i =$ Suma de todas las frecuencias por debajo de la clase cuartil \"$i$\".\n",
    "- $f_i =$ Frecuencia de la clase cuaritl \"$i$\".\n",
    "- $c =$ Ancho de clase.\n",
    "\n",
    "Ejemplo: Hallar ${Q_{1}}$, ${Q_{2}}$ y  ${Q_{3}}$ de la siguiente distribución de frecuencias correspondiente a las calificaciones finales en estadística de **40 estudiantes**."
   ]
  },
  {
   "cell_type": "code",
   "execution_count": 33,
   "metadata": {},
   "outputs": [
    {
     "name": "stdout",
     "output_type": "stream",
     "text": [
      "[10.0, 20.0, 30.0]\n"
     ]
    },
    {
     "data": {
      "text/html": [
       "<div>\n",
       "<style scoped>\n",
       "    .dataframe tbody tr th:only-of-type {\n",
       "        vertical-align: middle;\n",
       "    }\n",
       "\n",
       "    .dataframe tbody tr th {\n",
       "        vertical-align: top;\n",
       "    }\n",
       "\n",
       "    .dataframe thead th {\n",
       "        text-align: right;\n",
       "    }\n",
       "</style>\n",
       "<table border=\"1\" class=\"dataframe\">\n",
       "  <thead>\n",
       "    <tr style=\"text-align: right;\">\n",
       "      <th></th>\n",
       "      <th>Clase</th>\n",
       "      <th>Intervalo</th>\n",
       "      <th>Frecuencia</th>\n",
       "      <th>Marca Clase</th>\n",
       "    </tr>\n",
       "  </thead>\n",
       "  <tbody>\n",
       "    <tr>\n",
       "      <th>0</th>\n",
       "      <td>1</td>\n",
       "      <td>38.5 - 47.5</td>\n",
       "      <td>1</td>\n",
       "      <td>43</td>\n",
       "    </tr>\n",
       "    <tr>\n",
       "      <th>1</th>\n",
       "      <td>2</td>\n",
       "      <td>47.5 - 56.5</td>\n",
       "      <td>7</td>\n",
       "      <td>52</td>\n",
       "    </tr>\n",
       "    <tr>\n",
       "      <th>2</th>\n",
       "      <td>3</td>\n",
       "      <td>56.5 - 65.6</td>\n",
       "      <td>8</td>\n",
       "      <td>61</td>\n",
       "    </tr>\n",
       "    <tr>\n",
       "      <th>3</th>\n",
       "      <td>4</td>\n",
       "      <td>65.6 - 74.5</td>\n",
       "      <td>10</td>\n",
       "      <td>70</td>\n",
       "    </tr>\n",
       "    <tr>\n",
       "      <th>4</th>\n",
       "      <td>5</td>\n",
       "      <td>74.5 - 83.5</td>\n",
       "      <td>9</td>\n",
       "      <td>79</td>\n",
       "    </tr>\n",
       "    <tr>\n",
       "      <th>5</th>\n",
       "      <td>6</td>\n",
       "      <td>83.5 - 92.5</td>\n",
       "      <td>4</td>\n",
       "      <td>88</td>\n",
       "    </tr>\n",
       "    <tr>\n",
       "      <th>6</th>\n",
       "      <td>7</td>\n",
       "      <td>92.5 - 101.5</td>\n",
       "      <td>1</td>\n",
       "      <td>97</td>\n",
       "    </tr>\n",
       "  </tbody>\n",
       "</table>\n",
       "</div>"
      ],
      "text/plain": [
       "   Clase     Intervalo  Frecuencia  Marca Clase\n",
       "0      1   38.5 - 47.5           1           43\n",
       "1      2   47.5 - 56.5           7           52\n",
       "2      3   56.5 - 65.6           8           61\n",
       "3      4   65.6 - 74.5          10           70\n",
       "4      5   74.5 - 83.5           9           79\n",
       "5      6   83.5 - 92.5           4           88\n",
       "6      7  92.5 - 101.5           1           97"
      ]
     },
     "execution_count": 33,
     "metadata": {},
     "output_type": "execute_result"
    }
   ],
   "source": [
    "import pandas as pd\n",
    "data_fr = pd.read_csv(\"/home/jesus/clases/Estadistica5/calificaciones.csv\")\n",
    "\n",
    "\n",
    "PoCuartiles = []\n",
    "def posicionCuartil(n):\n",
    "    for i in range(1,4):\n",
    "        PoCuartiles.append( (i*n)/4 )\n",
    "    return PoCuartiles\n",
    "\n",
    "posicionCuartil(40)\n",
    "print(PoCuartiles)\n",
    "data_fr.head(10)"
   ]
  },
  {
   "cell_type": "markdown",
   "metadata": {},
   "source": [
    "El primer cuartil corresponde a la clase numero 3."
   ]
  },
  {
   "cell_type": "code",
   "execution_count": 49,
   "metadata": {},
   "outputs": [
    {
     "name": "stdout",
     "output_type": "stream",
     "text": [
      "Cuartil1: 58.75\n",
      "69.1\n",
      "[2.5, 17.5, 20.0, 25.0, 22.5, 10.0, 2.5]\n"
     ]
    },
    {
     "data": {
      "text/html": [
       "<div>\n",
       "<style scoped>\n",
       "    .dataframe tbody tr th:only-of-type {\n",
       "        vertical-align: middle;\n",
       "    }\n",
       "\n",
       "    .dataframe tbody tr th {\n",
       "        vertical-align: top;\n",
       "    }\n",
       "\n",
       "    .dataframe thead th {\n",
       "        text-align: right;\n",
       "    }\n",
       "</style>\n",
       "<table border=\"1\" class=\"dataframe\">\n",
       "  <thead>\n",
       "    <tr style=\"text-align: right;\">\n",
       "      <th></th>\n",
       "      <th>Clase</th>\n",
       "      <th>Intervalo</th>\n",
       "      <th>Frecuencia</th>\n",
       "      <th>Marca Clase</th>\n",
       "      <th>Frecuencia Relativa</th>\n",
       "      <th>Frecuencia Relativa Acumulada</th>\n",
       "    </tr>\n",
       "  </thead>\n",
       "  <tbody>\n",
       "    <tr>\n",
       "      <th>0</th>\n",
       "      <td>1</td>\n",
       "      <td>38.5 - 47.5</td>\n",
       "      <td>1</td>\n",
       "      <td>43</td>\n",
       "      <td>2.5</td>\n",
       "      <td>2.5</td>\n",
       "    </tr>\n",
       "    <tr>\n",
       "      <th>1</th>\n",
       "      <td>2</td>\n",
       "      <td>47.5 - 56.5</td>\n",
       "      <td>7</td>\n",
       "      <td>52</td>\n",
       "      <td>17.5</td>\n",
       "      <td>20.0</td>\n",
       "    </tr>\n",
       "    <tr>\n",
       "      <th>2</th>\n",
       "      <td>3</td>\n",
       "      <td>56.5 - 65.6</td>\n",
       "      <td>8</td>\n",
       "      <td>61</td>\n",
       "      <td>20.0</td>\n",
       "      <td>40.0</td>\n",
       "    </tr>\n",
       "    <tr>\n",
       "      <th>3</th>\n",
       "      <td>4</td>\n",
       "      <td>65.6 - 74.5</td>\n",
       "      <td>10</td>\n",
       "      <td>70</td>\n",
       "      <td>25.0</td>\n",
       "      <td>65.0</td>\n",
       "    </tr>\n",
       "    <tr>\n",
       "      <th>4</th>\n",
       "      <td>5</td>\n",
       "      <td>74.5 - 83.5</td>\n",
       "      <td>9</td>\n",
       "      <td>79</td>\n",
       "      <td>22.5</td>\n",
       "      <td>87.5</td>\n",
       "    </tr>\n",
       "  </tbody>\n",
       "</table>\n",
       "</div>"
      ],
      "text/plain": [
       "   Clase    Intervalo  ...  Frecuencia Relativa  Frecuencia Relativa Acumulada\n",
       "0      1  38.5 - 47.5  ...                  2.5                            2.5\n",
       "1      2  47.5 - 56.5  ...                 17.5                           20.0\n",
       "2      3  56.5 - 65.6  ...                 20.0                           40.0\n",
       "3      4  65.6 - 74.5  ...                 25.0                           65.0\n",
       "4      5  74.5 - 83.5  ...                 22.5                           87.5\n",
       "\n",
       "[5 rows x 6 columns]"
      ]
     },
     "execution_count": 49,
     "metadata": {},
     "output_type": "execute_result"
    }
   ],
   "source": [
    "c = 65.5 - 56.5 \n",
    "C1 = 56.5 + ((10-8)/(8)) * c\n",
    "print(f\"Cuartil1: {C1}\")\n",
    "\n",
    "C2 = 65.5 + ((20-16)/(10)) * c\n",
    "print(C2)\n",
    "\n",
    "intervalos = [47.5,56.5,65.5,74.5,83.5,92.5,101.5]\n",
    "frecuencia = data_fr['Frecuencia']\n",
    "h = []\n",
    "for i in frecuencia:\n",
    "    h.append((i*100)/40)\n",
    "print(h)\n",
    "\n",
    "data_fr['Frecuencia Relativa'] = h\n",
    "\n",
    "H = []\n",
    "for i in range(0,len(h)):\n",
    "    if i == 0:\n",
    "        H.append(h[0])\n",
    "    else:\n",
    "        H.append(H[i-1]+h[i])\n",
    "data_fr['Frecuencia Relativa Acumulada'] = H\n",
    "data_fr.head()"
   ]
  },
  {
   "cell_type": "code",
   "execution_count": 48,
   "metadata": {},
   "outputs": [
    {
     "data": {
      "text/plain": [
       "Text(0, 0.5, 'Porcentaje alumnos')"
      ]
     },
     "execution_count": 48,
     "metadata": {},
     "output_type": "execute_result"
    },
    {
     "data": {
      "image/png": "[encoded data removed]",
      "text/plain": [
       "<Figure size 432x288 with 1 Axes>"
      ]
     },
     "metadata": {
      "needs_background": "light"
     },
     "output_type": "display_data"
    }
   ],
   "source": [
    "import matplotlib.pyplot as plot\n",
    "plot.plot(intervalos,H,marker = 'o')\n",
    "plot.xticks(intervalos)\n",
    "plot.yticks(H)\n",
    "plot.xlabel(\"Califaciones\")\n",
    "plot.ylabel(\"Porcentaje alumnos\")"
   ]
  },
  {
   "cell_type": "markdown",
   "metadata": {},
   "source": [
    "Por lo tanto, un 25% de los estudiantes obtuvieron una calificacion menor a 58.75."
   ]
  },
  {
   "cell_type": "markdown",
   "metadata": {},
   "source": [
    "## Deciles\n",
    "\n",
    "Supóngase que se desea dividir al conjunto de datos en diez partes iguales, con el 10%, 20%, ... y el 90% de las observaciones respectivamente. Por lo tanto, se requieren de nueve cantidades, a las que se les da el nombre de **deciles** y que se representan por: $D_1,D_2,D_3,...,D_9$.\n",
    "\n",
    "Para calcular los deciles primero necesitamos determinar su posición $P_o$:\n",
    "\n",
    "$P_oD_i = \\frac{in}{10}, i=1,2,3,4,...,9$\n",
    "\n",
    "Y sus valores se encuentran con la siguiente formula:  $$D_i = L_i + (\\frac{P_o D_i - (\\sum f)_i}{f_i}) * c , i=1,2,3,4,...,9$$\n",
    "\n",
    "Donde:\n",
    "- $L_i =$ Límite inferior de la clase decil \"$i$\".\n",
    "- $P_o D_i =$ Posición del decil \"$i$\".\n",
    "- $(\\sum f)_i =$ Suma de todas las frecuencias por debajo de la clase decil \"$i$\".\n",
    "- $f_i =$ Frecuencia de la clase decil \"$i$\".\n",
    "- $c =$ Ancho de clase.\n",
    "\n",
    "Ejemplo: Ejemplo: Hallar ${D_{3}}$, ${D_{6}}$ y  ${D_{9}}$ de la siguiente distribución de frecuencias correspondiente a las calificaciones finales en estadística de **40 estudiantes**."
   ]
  },
  {
   "cell_type": "code",
   "execution_count": 54,
   "metadata": {},
   "outputs": [
    {
     "name": "stdout",
     "output_type": "stream",
     "text": [
      "56.5\n",
      "69.1\n"
     ]
    },
    {
     "data": {
      "text/html": [
       "<div>\n",
       "<style scoped>\n",
       "    .dataframe tbody tr th:only-of-type {\n",
       "        vertical-align: middle;\n",
       "    }\n",
       "\n",
       "    .dataframe tbody tr th {\n",
       "        vertical-align: top;\n",
       "    }\n",
       "\n",
       "    .dataframe thead th {\n",
       "        text-align: right;\n",
       "    }\n",
       "</style>\n",
       "<table border=\"1\" class=\"dataframe\">\n",
       "  <thead>\n",
       "    <tr style=\"text-align: right;\">\n",
       "      <th></th>\n",
       "      <th>Clase</th>\n",
       "      <th>Intervalo</th>\n",
       "      <th>Frecuencia</th>\n",
       "      <th>Marca Clase</th>\n",
       "      <th>Frecuencia Relativa</th>\n",
       "      <th>Frecuencia Relativa Acumulada</th>\n",
       "    </tr>\n",
       "  </thead>\n",
       "  <tbody>\n",
       "    <tr>\n",
       "      <th>0</th>\n",
       "      <td>1</td>\n",
       "      <td>38.5 - 47.5</td>\n",
       "      <td>1</td>\n",
       "      <td>43</td>\n",
       "      <td>2.5</td>\n",
       "      <td>2.5</td>\n",
       "    </tr>\n",
       "    <tr>\n",
       "      <th>1</th>\n",
       "      <td>2</td>\n",
       "      <td>47.5 - 56.5</td>\n",
       "      <td>7</td>\n",
       "      <td>52</td>\n",
       "      <td>17.5</td>\n",
       "      <td>20.0</td>\n",
       "    </tr>\n",
       "    <tr>\n",
       "      <th>2</th>\n",
       "      <td>3</td>\n",
       "      <td>56.5 - 65.6</td>\n",
       "      <td>8</td>\n",
       "      <td>61</td>\n",
       "      <td>20.0</td>\n",
       "      <td>40.0</td>\n",
       "    </tr>\n",
       "    <tr>\n",
       "      <th>3</th>\n",
       "      <td>4</td>\n",
       "      <td>65.6 - 74.5</td>\n",
       "      <td>10</td>\n",
       "      <td>70</td>\n",
       "      <td>25.0</td>\n",
       "      <td>65.0</td>\n",
       "    </tr>\n",
       "    <tr>\n",
       "      <th>4</th>\n",
       "      <td>5</td>\n",
       "      <td>74.5 - 83.5</td>\n",
       "      <td>9</td>\n",
       "      <td>79</td>\n",
       "      <td>22.5</td>\n",
       "      <td>87.5</td>\n",
       "    </tr>\n",
       "  </tbody>\n",
       "</table>\n",
       "</div>"
      ],
      "text/plain": [
       "   Clase    Intervalo  ...  Frecuencia Relativa  Frecuencia Relativa Acumulada\n",
       "0      1  38.5 - 47.5  ...                  2.5                            2.5\n",
       "1      2  47.5 - 56.5  ...                 17.5                           20.0\n",
       "2      3  56.5 - 65.6  ...                 20.0                           40.0\n",
       "3      4  65.6 - 74.5  ...                 25.0                           65.0\n",
       "4      5  74.5 - 83.5  ...                 22.5                           87.5\n",
       "\n",
       "[5 rows x 6 columns]"
      ]
     },
     "execution_count": 54,
     "metadata": {},
     "output_type": "execute_result"
    }
   ],
   "source": [
    "D2 = 47.5 + ((8-1)/(7)) * c\n",
    "print(D2)\n",
    "D5 = 65.5 + ((20-16)/(10)) * c\n",
    "print(D5)\n",
    "data_fr.head()"
   ]
  },
  {
   "cell_type": "markdown",
   "metadata": {},
   "source": [
    "## Centiles o Percentiles.\n",
    "\n",
    "Supóngase que se desea dividir al conjunto de datos en 100 partes iguales, con el 1%, 2%, ... y el 99% de las observaciones respectivamente. Por lo tanto, se requieren de noventa y nueve cantidades, a las que se les da el nombre de **centiless** y que se representan por: $C_1,C_2,C_3,...,C_{99}$.\n",
    "\n",
    "Para calcular los centiles primero necesitamos determinar su posición $P_o$:\n",
    "\n",
    "$P_oC_i = \\frac{in}{100}, i=1,2,3,4,...,99$\n",
    "\n",
    "Y sus valores se encuentran con la siguiente formula:  $$C_i = L_i + (\\frac{P_o C_i - (\\sum f)_i}{f_i}) * c , i=1,2,3,4,...,99$$\n",
    "\n",
    "Donde:\n",
    "- $L_i =$ Límite inferior de la clase centil \"$i$\".\n",
    "- $P_o C_i =$ Posición del centil \"$i$\".\n",
    "- $(\\sum f)_i =$ Suma de todas las frecuencias por debajo de la clase centil \"$i$\".\n",
    "- $f_i =$ Frecuencia de la clase centil \"$i$\".\n",
    "- $c =$ Ancho de clase.\n",
    "\n",
    "Ejemplo: Ejemplo: Hallar ${C_{3}}$, ${C_{60}}$ y  ${C_{99}}$ de la siguiente distribución de frecuencias correspondiente a las calificaciones finales en estadística de **40 estudiantes**."
   ]
  }
 ],
 "metadata": {
  "kernelspec": {
   "display_name": "Python 3.9.7 ('base')",
   "language": "python",
   "name": "python3"
  },
  "language_info": {
   "codemirror_mode": {
    "name": "ipython",
    "version": 3
   },
   "file_extension": ".py",
   "mimetype": "text/x-python",
   "name": "python",
   "nbconvert_exporter": "python",
   "pygments_lexer": "ipython3",
   "version": "3.9.7"
  },
  "orig_nbformat": 4,
  "vscode": {
   "interpreter": {
    "hash": "1887026fcd1b072b47c58e40aa32a6384ea48c39cc97a9faa3b1fec939c280df"
   }
  }
 },
 "nbformat": 4,
 "nbformat_minor": 2
}
