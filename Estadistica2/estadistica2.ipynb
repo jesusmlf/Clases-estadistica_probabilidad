{
 "cells": [
  {
   "cell_type": "code",
   "execution_count": 23,
   "metadata": {},
   "outputs": [],
   "source": [
    "import pandas as pd\n",
    "import matplotlib.pyplot as plot\n",
    "import seaborn as sb"
   ]
  },
  {
   "cell_type": "markdown",
   "metadata": {},
   "source": [
    "# ¿Qué es un DataFrame?\n",
    "Un DataFrame es una estructura de datos con dos dimensiones, en la cual se puede guardar datos de distintos tipos."
   ]
  },
  {
   "cell_type": "code",
   "execution_count": 24,
   "metadata": {},
   "outputs": [
    {
     "data": {
      "text/html": [
       "<div>\n",
       "<style scoped>\n",
       "    .dataframe tbody tr th:only-of-type {\n",
       "        vertical-align: middle;\n",
       "    }\n",
       "\n",
       "    .dataframe tbody tr th {\n",
       "        vertical-align: top;\n",
       "    }\n",
       "\n",
       "    .dataframe thead th {\n",
       "        text-align: right;\n",
       "    }\n",
       "</style>\n",
       "<table border=\"1\" class=\"dataframe\">\n",
       "  <thead>\n",
       "    <tr style=\"text-align: right;\">\n",
       "      <th></th>\n",
       "      <th>Estado</th>\n",
       "      <th>Produccion (kilogramos)</th>\n",
       "    </tr>\n",
       "  </thead>\n",
       "  <tbody>\n",
       "    <tr>\n",
       "      <th>0</th>\n",
       "      <td>Sonora</td>\n",
       "      <td>8190.0</td>\n",
       "    </tr>\n",
       "    <tr>\n",
       "      <th>1</th>\n",
       "      <td>Durango</td>\n",
       "      <td>4817.0</td>\n",
       "    </tr>\n",
       "    <tr>\n",
       "      <th>2</th>\n",
       "      <td>Guanajuato</td>\n",
       "      <td>2890.0</td>\n",
       "    </tr>\n",
       "    <tr>\n",
       "      <th>3</th>\n",
       "      <td>Resto del pais</td>\n",
       "      <td>8188.0</td>\n",
       "    </tr>\n",
       "  </tbody>\n",
       "</table>\n",
       "</div>"
      ],
      "text/plain": [
       "           Estado  Produccion (kilogramos)\n",
       "0          Sonora                   8190.0\n",
       "1         Durango                   4817.0\n",
       "2      Guanajuato                   2890.0\n",
       "3  Resto del pais                   8188.0"
      ]
     },
     "execution_count": 24,
     "metadata": {},
     "output_type": "execute_result"
    }
   ],
   "source": [
    "data_fr = pd.read_csv('/home/jesus/clases/Estadistica2/Circular1.csv')\n",
    "#La tabla muestra la distribución de producción de oro a nivel nacional correspondiente al año de 1997.\n",
    "\n",
    "data_fr.head(10)#Mostrar las primeras 5 filas del DataFrame\n"
   ]
  },
  {
   "cell_type": "code",
   "execution_count": 25,
   "metadata": {},
   "outputs": [
    {
     "data": {
      "text/plain": [
       "Estado                      object\n",
       "Produccion (kilogramos)    float64\n",
       "dtype: object"
      ]
     },
     "execution_count": 25,
     "metadata": {},
     "output_type": "execute_result"
    }
   ],
   "source": [
    "data_fr.dtypes"
   ]
  },
  {
   "cell_type": "code",
   "execution_count": 26,
   "metadata": {},
   "outputs": [
    {
     "data": {
      "text/plain": [
       "Index(['Estado', 'Produccion (kilogramos)'], dtype='object')"
      ]
     },
     "execution_count": 26,
     "metadata": {},
     "output_type": "execute_result"
    }
   ],
   "source": [
    "data_fr.columns"
   ]
  },
  {
   "cell_type": "code",
   "execution_count": 27,
   "metadata": {},
   "outputs": [
    {
     "data": {
      "text/plain": [
       "(4, 2)"
      ]
     },
     "execution_count": 27,
     "metadata": {},
     "output_type": "execute_result"
    }
   ],
   "source": [
    "data_fr.shape # (filas,columnas)"
   ]
  },
  {
   "cell_type": "markdown",
   "metadata": {},
   "source": [
    "# Tipos de gráficas.\n",
    "\n",
    "## Gráfica de barras.\n",
    "Estas gráficas se construyen con rectángulos de igual base en el eje horizontal y altura proporcional a la frecuencia en el eje vertical."
   ]
  },
  {
   "cell_type": "code",
   "execution_count": 28,
   "metadata": {},
   "outputs": [
    {
     "data": {
      "text/plain": [
       "<BarContainer object of 4 artists>"
      ]
     },
     "execution_count": 28,
     "metadata": {},
     "output_type": "execute_result"
    },
    {
     "data": {
      "image/png": "[encoded data removed]",
      "text/plain": [
       "<Figure size 432x288 with 1 Axes>"
      ]
     },
     "metadata": {
      "needs_background": "light"
     },
     "output_type": "display_data"
    }
   ],
   "source": [
    "#data_fr['Estado']\n",
    "#data_fr['Produccion (kilogramos)']\n",
    "\n",
    "#nombre_variable['nombre_columna']\n",
    "#Para extraer una columna de un DataFrame\n",
    "\n",
    "eje_x = data_fr['Estado']\n",
    "eje_y = data_fr['Produccion (kilogramos)']\n",
    "plot.bar(eje_x , eje_y,width=0.8,color = 'grey')"
   ]
  },
  {
   "cell_type": "markdown",
   "metadata": {},
   "source": [
    "## Gráfica circular.\n",
    "\n",
    "Las gráficas circulares se utilizan frecuentemente para representar datos cualitativos o atributos. En este tipo de gráficas, un círculo se divide en sectores que son proporcionales en tamaño a las frecuencias relativas o porcentajes correspondientes.\n",
    "\n",
    "Para construir una gráfica circular a partir de una tabla de datos, se divide el círculo en sectores cuyo angulo central equivale al producto de la frecuencia relativa por 360º."
   ]
  },
  {
   "cell_type": "code",
   "execution_count": 29,
   "metadata": {},
   "outputs": [
    {
     "name": "stdout",
     "output_type": "stream",
     "text": [
      "El total es: 24085.0\n",
      "[34, 20, 12, 34]\n"
     ]
    },
    {
     "data": {
      "text/html": [
       "<div>\n",
       "<style scoped>\n",
       "    .dataframe tbody tr th:only-of-type {\n",
       "        vertical-align: middle;\n",
       "    }\n",
       "\n",
       "    .dataframe tbody tr th {\n",
       "        vertical-align: top;\n",
       "    }\n",
       "\n",
       "    .dataframe thead th {\n",
       "        text-align: right;\n",
       "    }\n",
       "</style>\n",
       "<table border=\"1\" class=\"dataframe\">\n",
       "  <thead>\n",
       "    <tr style=\"text-align: right;\">\n",
       "      <th></th>\n",
       "      <th>Estado</th>\n",
       "      <th>Produccion (kilogramos)</th>\n",
       "      <th>Produccion relativa (%)</th>\n",
       "    </tr>\n",
       "  </thead>\n",
       "  <tbody>\n",
       "    <tr>\n",
       "      <th>0</th>\n",
       "      <td>Sonora</td>\n",
       "      <td>8190.0</td>\n",
       "      <td>34</td>\n",
       "    </tr>\n",
       "    <tr>\n",
       "      <th>1</th>\n",
       "      <td>Durango</td>\n",
       "      <td>4817.0</td>\n",
       "      <td>20</td>\n",
       "    </tr>\n",
       "    <tr>\n",
       "      <th>2</th>\n",
       "      <td>Guanajuato</td>\n",
       "      <td>2890.0</td>\n",
       "      <td>12</td>\n",
       "    </tr>\n",
       "    <tr>\n",
       "      <th>3</th>\n",
       "      <td>Resto del pais</td>\n",
       "      <td>8188.0</td>\n",
       "      <td>34</td>\n",
       "    </tr>\n",
       "  </tbody>\n",
       "</table>\n",
       "</div>"
      ],
      "text/plain": [
       "           Estado  Produccion (kilogramos)  Produccion relativa (%)\n",
       "0          Sonora                   8190.0                       34\n",
       "1         Durango                   4817.0                       20\n",
       "2      Guanajuato                   2890.0                       12\n",
       "3  Resto del pais                   8188.0                       34"
      ]
     },
     "execution_count": 29,
     "metadata": {},
     "output_type": "execute_result"
    }
   ],
   "source": [
    "\n",
    "produccion = data_fr['Produccion (kilogramos)']\n",
    "\n",
    "total = 0\n",
    "for i in produccion:\n",
    "    total = total + i\n",
    "\n",
    "print(f\"El total es: {total}\")\n",
    "\n",
    "\n",
    "\n",
    "produccion_relativa = []\n",
    "\n",
    "for i in produccion:\n",
    "    produccion_relativa.append(round(i*100/total))\n",
    "\n",
    "print(produccion_relativa)\n",
    "\n",
    "data_fr['Produccion relativa (%)'] = produccion_relativa\n",
    "#nombre_df['nueva_columna'] = lista\n",
    "data_fr.head(5)"
   ]
  },
  {
   "cell_type": "code",
   "execution_count": 36,
   "metadata": {},
   "outputs": [
    {
     "name": "stdout",
     "output_type": "stream",
     "text": [
      "[122.4, 72.0, 43.2, 122.4]\n"
     ]
    },
    {
     "data": {
      "text/html": [
       "<div>\n",
       "<style scoped>\n",
       "    .dataframe tbody tr th:only-of-type {\n",
       "        vertical-align: middle;\n",
       "    }\n",
       "\n",
       "    .dataframe tbody tr th {\n",
       "        vertical-align: top;\n",
       "    }\n",
       "\n",
       "    .dataframe thead th {\n",
       "        text-align: right;\n",
       "    }\n",
       "</style>\n",
       "<table border=\"1\" class=\"dataframe\">\n",
       "  <thead>\n",
       "    <tr style=\"text-align: right;\">\n",
       "      <th></th>\n",
       "      <th>Estado</th>\n",
       "      <th>Produccion (kilogramos)</th>\n",
       "      <th>Produccion relativa (%)</th>\n",
       "      <th>Medida del angulo (º)</th>\n",
       "    </tr>\n",
       "  </thead>\n",
       "  <tbody>\n",
       "    <tr>\n",
       "      <th>0</th>\n",
       "      <td>Sonora</td>\n",
       "      <td>8190.0</td>\n",
       "      <td>34</td>\n",
       "      <td>122.4</td>\n",
       "    </tr>\n",
       "    <tr>\n",
       "      <th>1</th>\n",
       "      <td>Durango</td>\n",
       "      <td>4817.0</td>\n",
       "      <td>20</td>\n",
       "      <td>72.0</td>\n",
       "    </tr>\n",
       "    <tr>\n",
       "      <th>2</th>\n",
       "      <td>Guanajuato</td>\n",
       "      <td>2890.0</td>\n",
       "      <td>12</td>\n",
       "      <td>43.2</td>\n",
       "    </tr>\n",
       "    <tr>\n",
       "      <th>3</th>\n",
       "      <td>Resto del pais</td>\n",
       "      <td>8188.0</td>\n",
       "      <td>34</td>\n",
       "      <td>122.4</td>\n",
       "    </tr>\n",
       "  </tbody>\n",
       "</table>\n",
       "</div>"
      ],
      "text/plain": [
       "           Estado  Produccion (kilogramos)  Produccion relativa (%)  \\\n",
       "0          Sonora                   8190.0                       34   \n",
       "1         Durango                   4817.0                       20   \n",
       "2      Guanajuato                   2890.0                       12   \n",
       "3  Resto del pais                   8188.0                       34   \n",
       "\n",
       "   Medida del angulo (º)  \n",
       "0                  122.4  \n",
       "1                   72.0  \n",
       "2                   43.2  \n",
       "3                  122.4  "
      ]
     },
     "execution_count": 36,
     "metadata": {},
     "output_type": "execute_result"
    }
   ],
   "source": [
    "medida_angulo = []\n",
    "\n",
    "for i in produccion_relativa:\n",
    "    medida_angulo.append(round(i/100*360,2))\n",
    "\n",
    "print(medida_angulo)\n",
    "\n",
    "data_fr['Medida del angulo (º)'] = medida_angulo\n",
    "\n",
    "data_fr.head(5)"
   ]
  },
  {
   "cell_type": "code",
   "execution_count": 37,
   "metadata": {},
   "outputs": [
    {
     "data": {
      "text/plain": [
       "([<matplotlib.patches.Wedge at 0x7fc7c26bde80>,\n",
       "  <matplotlib.patches.Wedge at 0x7fc7c26cc400>,\n",
       "  <matplotlib.patches.Wedge at 0x7fc7c26cc8e0>,\n",
       "  <matplotlib.patches.Wedge at 0x7fc7c26ccdc0>],\n",
       " [Text(0.5297907617277307, 0.964013355087963, 'Sonora'),\n",
       "  Text(-1.0228702705170838, 0.4046435588172734, 'Durango'),\n",
       "  Text(-0.8897500202472103, -0.6467958731084246, 'Guanajuato'),\n",
       "  Text(0.530042155818808, -0.9638751542886406, 'Resto del pais')])"
      ]
     },
     "execution_count": 37,
     "metadata": {},
     "output_type": "execute_result"
    },
    {
     "data": {
      "image/png": "[encoded data removed]",
      "text/plain": [
       "<Figure size 432x288 with 1 Axes>"
      ]
     },
     "metadata": {},
     "output_type": "display_data"
    }
   ],
   "source": [
    "estado = data_fr['Estado']\n",
    "\n",
    "plot.pie(produccion,labels=estado)"
   ]
  },
  {
   "cell_type": "code",
   "execution_count": 32,
   "metadata": {},
   "outputs": [
    {
     "data": {
      "text/html": [
       "<div>\n",
       "<style scoped>\n",
       "    .dataframe tbody tr th:only-of-type {\n",
       "        vertical-align: middle;\n",
       "    }\n",
       "\n",
       "    .dataframe tbody tr th {\n",
       "        vertical-align: top;\n",
       "    }\n",
       "\n",
       "    .dataframe thead th {\n",
       "        text-align: right;\n",
       "    }\n",
       "</style>\n",
       "<table border=\"1\" class=\"dataframe\">\n",
       "  <thead>\n",
       "    <tr style=\"text-align: right;\">\n",
       "      <th></th>\n",
       "      <th>Unnamed: 0</th>\n",
       "      <th>Estado</th>\n",
       "      <th>Produccion (kilogramos)</th>\n",
       "      <th>Produccion relativa (%)</th>\n",
       "      <th>Medida del angulo (º)</th>\n",
       "    </tr>\n",
       "  </thead>\n",
       "  <tbody>\n",
       "    <tr>\n",
       "      <th>0</th>\n",
       "      <td>0</td>\n",
       "      <td>Sonora</td>\n",
       "      <td>8190.0</td>\n",
       "      <td>34</td>\n",
       "      <td>122.4</td>\n",
       "    </tr>\n",
       "    <tr>\n",
       "      <th>1</th>\n",
       "      <td>1</td>\n",
       "      <td>Durango</td>\n",
       "      <td>4817.0</td>\n",
       "      <td>20</td>\n",
       "      <td>72.0</td>\n",
       "    </tr>\n",
       "    <tr>\n",
       "      <th>2</th>\n",
       "      <td>2</td>\n",
       "      <td>Guanajuato</td>\n",
       "      <td>2890.0</td>\n",
       "      <td>12</td>\n",
       "      <td>43.2</td>\n",
       "    </tr>\n",
       "    <tr>\n",
       "      <th>3</th>\n",
       "      <td>3</td>\n",
       "      <td>Resto del pais</td>\n",
       "      <td>8188.0</td>\n",
       "      <td>34</td>\n",
       "      <td>122.4</td>\n",
       "    </tr>\n",
       "  </tbody>\n",
       "</table>\n",
       "</div>"
      ],
      "text/plain": [
       "   Unnamed: 0          Estado  Produccion (kilogramos)  \\\n",
       "0           0          Sonora                   8190.0   \n",
       "1           1         Durango                   4817.0   \n",
       "2           2      Guanajuato                   2890.0   \n",
       "3           3  Resto del pais                   8188.0   \n",
       "\n",
       "   Produccion relativa (%)  Medida del angulo (º)  \n",
       "0                       34                  122.4  \n",
       "1                       20                   72.0  \n",
       "2                       12                   43.2  \n",
       "3                       34                  122.4  "
      ]
     },
     "execution_count": 32,
     "metadata": {},
     "output_type": "execute_result"
    }
   ],
   "source": [
    "\n",
    "data_fr_final = pd.DataFrame(data_fr)\n",
    "\n",
    "data_fr_final.to_csv('final.csv')\n",
    "\n",
    "final = pd.read_csv('final.csv')\n",
    "final.head(5)"
   ]
  },
  {
   "cell_type": "markdown",
   "metadata": {},
   "source": [
    "# Gráficas lineales.\n",
    "\n",
    "Las gráficas lineales nos permiten visualizar el comportamiento de una cantidad durante el transcurso de un determinado tiempo."
   ]
  },
  {
   "cell_type": "code",
   "execution_count": 54,
   "metadata": {},
   "outputs": [
    {
     "name": "stdout",
     "output_type": "stream",
     "text": [
      "   Tiempo         Sede  Oro  Plata  Bronce  Total\n",
      "0    1968       Mexico    3      3       3      9\n",
      "1    1972       Munich    0      1       0      1\n",
      "2    1976     Montreal    1      0       1      2\n",
      "3    1980        Moscu    0      1       3      4\n",
      "4    1984  Los angeles    0      2       2      4\n",
      "5    1988         Seul    0      0       2      2\n",
      "6    1992    Barcelona    0      1       0      1\n",
      "7    1996      Atlanta    0      0       1      1\n",
      "8    2000       Sidney    1      2       3      6\n",
      "0    9\n",
      "1    1\n",
      "2    2\n",
      "3    4\n",
      "4    4\n",
      "5    2\n",
      "6    1\n",
      "7    1\n",
      "8    6\n",
      "Name: Total, dtype: int64\n"
     ]
    },
    {
     "data": {
      "image/png": "[encoded data removed]",
      "text/plain": [
       "<Figure size 432x288 with 1 Axes>"
      ]
     },
     "metadata": {
      "needs_background": "light"
     },
     "output_type": "display_data"
    }
   ],
   "source": [
    "dfr = pd.read_csv('medallas.csv')\n",
    "print(dfr.head(10))\n",
    "eje_x = dfr['Tiempo']\n",
    "eje_y = dfr['Total']\n",
    "\n",
    "\n",
    "plot.plot(eje_x,eje_y,marker='^',color='red')\n",
    "\n",
    "print(eje_y)"
   ]
  },
  {
   "cell_type": "markdown",
   "metadata": {},
   "source": [
    "### Gráficas lineales. Interpolación\n",
    "\n",
    "Si una variable cambia de manera continua durante un intervalo de tiempo y se conocen los valores de la variable para ciertos momentos, entonces podemos unirlos mediante una curva suave y así, obtener los valores aproximados de la variable para otros momentos. A este proceso se le llama interpolación.\n",
    "\n",
    "\n",
    "#### Ejemplo: \n"
   ]
  },
  {
   "cell_type": "code",
   "execution_count": 59,
   "metadata": {},
   "outputs": [
    {
     "name": "stdout",
     "output_type": "stream",
     "text": [
      "   Segundos  Velocidad (m/s)\n",
      "0         0                0\n",
      "1         5                5\n",
      "2        10                7\n",
      "3        15               10\n",
      "4        20               13\n",
      "5        25               13\n",
      "6        30               15\n",
      "7        35               13\n",
      "8        40               12\n",
      "9        45               14\n",
      "La velocidad maxima es: 15\n",
      "La velocidad minima es: 0\n"
     ]
    },
    {
     "data": {
      "image/png": "[encoded data removed]",
      "text/plain": [
       "<Figure size 432x288 with 1 Axes>"
      ]
     },
     "metadata": {
      "needs_background": "light"
     },
     "output_type": "display_data"
    }
   ],
   "source": [
    "dfr = pd.read_csv('/home/jesus/clases/Estadistica2/velocidades.csv')\n",
    "\n",
    "eje_x = dfr['Segundos']\n",
    "eje_y = dfr['Velocidad (m/s)']\n",
    "print(dfr.head(10))\n",
    "plot.plot(eje_x,eje_y,marker = 'o',color = 'green')\n",
    "\n",
    "#y = (7-5)/(10-5) * (7.5-5) + 5\n",
    "#print (y)\n",
    "#plot.plot()\n",
    "\n",
    "velocidades = dfr['Velocidad (m/s)']\n",
    "maximo = max(velocidades)\n",
    "print(f\"La velocidad maxima es: {maximo}\")\n",
    "\n",
    "minimo = min (velocidades)\n",
    "\n",
    "print(f\"La velocidad minima es: {minimo}\")"
   ]
  }
 ],
 "metadata": {
  "kernelspec": {
   "display_name": "Python 3.9.7 ('base')",
   "language": "python",
   "name": "python3"
  },
  "language_info": {
   "codemirror_mode": {
    "name": "ipython",
    "version": 3
   },
   "file_extension": ".py",
   "mimetype": "text/x-python",
   "name": "python",
   "nbconvert_exporter": "python",
   "pygments_lexer": "ipython3",
   "version": "3.9.7"
  },
  "orig_nbformat": 4,
  "vscode": {
   "interpreter": {
    "hash": "1887026fcd1b072b47c58e40aa32a6384ea48c39cc97a9faa3b1fec939c280df"
   }
  }
 },
 "nbformat": 4,
 "nbformat_minor": 2
}
